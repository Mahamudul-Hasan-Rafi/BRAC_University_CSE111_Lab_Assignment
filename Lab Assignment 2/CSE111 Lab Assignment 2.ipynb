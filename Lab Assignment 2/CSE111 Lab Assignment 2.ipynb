{
 "cells": [
  {
   "cell_type": "markdown",
   "metadata": {},
   "source": [
    "# Task 1"
   ]
  },
  {
   "cell_type": "code",
   "execution_count": 7,
   "metadata": {},
   "outputs": [
    {
     "name": "stdout",
     "output_type": "stream",
     "text": [
      "17\n",
      "8\n",
      "0.125\n"
     ]
    }
   ],
   "source": [
    "def fraction_part(m,n):\n",
    "    if m==0 or n==0:\n",
    "        return 0\n",
    "    else:\n",
    "        remainder=m%n\n",
    "        result=remainder/n\n",
    "        return result\n",
    "    \n",
    "p=int(input())\n",
    "q=int(input())\n",
    "print(fraction_part(p,q))"
   ]
  },
  {
   "cell_type": "markdown",
   "metadata": {},
   "source": [
    "# Task 2"
   ]
  },
  {
   "cell_type": "code",
   "execution_count": 12,
   "metadata": {},
   "outputs": [
    {
     "name": "stdout",
     "output_type": "stream",
     "text": [
      "Enter hight in cm:  152\n",
      "Enter weight kg:  48\n",
      "Score is 20.8. You are Normal\n"
     ]
    }
   ],
   "source": [
    "height_cm=int(input('Enter hight in cm:  '))\n",
    "height_meter=(height_cm/100)\n",
    "weight=int(input('Enter weight kg:  '))\n",
    "\n",
    "def bmi_calc(height_cm,w):\n",
    "    return weight/(height_meter**2)\n",
    "\n",
    "bmi=bmi_calc(height_cm,weight)\n",
    "bmi=round(bmi,1)\n",
    "\n",
    "if bmi<18.5:\n",
    "    print(f\"Score is {bmi}. You are Underweight\")\n",
    "elif bmi>=18.5 and bmi<=24.9:\n",
    "    print(f\"Score is {bmi}. You are Normal\")\n",
    "elif bmi>=25 and bmi<=30:\n",
    "    print(f\"Score is {bmi}. You are Overweight\")\n",
    "else:\n",
    "    print(f\"Score is {bmi}. You are Obese\") "
   ]
  },
  {
   "cell_type": "markdown",
   "metadata": {},
   "source": [
    "# Task 3"
   ]
  },
  {
   "cell_type": "code",
   "execution_count": 17,
   "metadata": {},
   "outputs": [
    {
     "name": "stdout",
     "output_type": "stream",
     "text": [
      "Enter a number: 0\n",
      "Enter a number: 10\n",
      "Enter a number: 2\n",
      "20\n"
     ]
    }
   ],
   "source": [
    "x=int(input(\"Enter a number: \"))\n",
    "y=int(input(\"Enter a number: \"))\n",
    "z=int(input(\"Enter a number: \"))\n",
    "\n",
    "def fardin(mn,mx,div):\n",
    "    add=0\n",
    "    for i in range(mn,mx,div):\n",
    "        add=add+i\n",
    "    return add\n",
    "a=fardin(x,y,z)\n",
    "print(a)"
   ]
  },
  {
   "cell_type": "markdown",
   "metadata": {},
   "source": [
    "# Task 4"
   ]
  },
  {
   "cell_type": "code",
   "execution_count": 21,
   "metadata": {},
   "outputs": [
    {
     "name": "stdout",
     "output_type": "stream",
     "text": [
      "Beef Burger\n",
      "Dhanmondi\n",
      "243.6\n"
     ]
    }
   ],
   "source": [
    "food=input()\n",
    "place=input()\n",
    "amnt=0\n",
    "def tk(burger,place):\n",
    "    if burger=='BBQ Chicken Cheese Burger':\n",
    "        amnt=250+(250*.08)\n",
    "    elif burger=='Beef Burger':\n",
    "        amnt=170+(170*.08)\n",
    "    elif burger=='Naga Drums':\n",
    "        amnt=200+(200*.08)\n",
    "    else:\n",
    "        return (\"Please input correctly like sample\")\n",
    "    \n",
    "    if place==\"Mohakhali\":\n",
    "        amnt=amnt+40\n",
    "    else:\n",
    "        amnt=amnt+60\n",
    "    return amnt\n",
    "    \n",
    "amount=tk(food,place)\n",
    "print(amount)"
   ]
  },
  {
   "cell_type": "markdown",
   "metadata": {},
   "source": [
    "# Task 5"
   ]
  },
  {
   "cell_type": "code",
   "execution_count": null,
   "metadata": {},
   "outputs": [],
   "source": [
    "gmail=input(\"Enter gmail: \")\n",
    "new_domain=input(\"New domain: \")\n",
    "old_domain=input(\"Old domain: \")\n",
    "\n",
    "def mail_extractor(x,y,z=''):\n",
    "    if z=='' :\n",
    "        gm=\"Unchanged: +g\"\n",
    "        return gm\n",
    "    else:\n",
    "        c=gm.find(\"@\")\n",
    "    gm=\"Changed: +(g[0:c+1])+y\"\n",
    "    return (gm)\n",
    "\n",
    "gmail=mail_extractor(gmail,new_domain,old_domain)\n",
    "print(gmail)"
   ]
  },
  {
   "cell_type": "markdown",
   "metadata": {},
   "source": [
    "# Task 6"
   ]
  },
  {
   "cell_type": "code",
   "execution_count": 30,
   "metadata": {},
   "outputs": [
    {
     "name": "stdout",
     "output_type": "stream",
     "text": [
      "Rafi\n",
      "Vowels: a,i,\n",
      "Total number of vowels:   2\n"
     ]
    }
   ],
   "source": [
    "name=input()\n",
    "def vowels(n):\n",
    "    r=\"Vowels: \"\n",
    "    c=0\n",
    "    for i in name:\n",
    "        if i=='a' or i=='e' or i=='i' or i=='o' or i=='u' or i=='A' or i=='E' or i=='I' or i=='O' or i=='U':\n",
    "            r=r+i+','\n",
    "            c=c+1\n",
    "    v=len(r)\n",
    "    i=0\n",
    "    if c==0:\n",
    "        print('No vowels in the name')\n",
    "    else:\n",
    "        print(r,end=\"\\n\")\n",
    "        while i<v:\n",
    "            if i==v-1:\n",
    "                print(\"Total number of vowels:  \",c)\n",
    "            i=i+1\n",
    "v=vowels(name)        "
   ]
  },
  {
   "cell_type": "markdown",
   "metadata": {},
   "source": [
    "# Task 7"
   ]
  },
  {
   "cell_type": "code",
   "execution_count": null,
   "metadata": {},
   "outputs": [],
   "source": [
    "n=input()\n",
    "len_n=len(n)\n",
    "fg=0\n",
    "\n",
    "for i in range(len_n):\n",
    "    if n[i]!=n[len_n-i]:\n",
    "        fg=1\n",
    "\n",
    "if fg==1:\n",
    "    print('Not a Palindrome')\n",
    "else:\n",
    "    print('Palindrome')"
   ]
  },
  {
   "cell_type": "markdown",
   "metadata": {},
   "source": [
    "# Task 8"
   ]
  },
  {
   "cell_type": "code",
   "execution_count": null,
   "metadata": {},
   "outputs": [],
   "source": [
    "from datetime import datetime,date\n",
    "n=input(\"Enter name: \")\n",
    "s=int(input(\"Enter salary: \"))\n",
    "d=input(\\\"yyyy-mm-dd \")\n",
    "year=d[0:4]\n",
    "month=d[5:7]\n",
    "day=d[8:]\n",
    "\n",
    "def calculateAge(joinDate):\n",
    "    today = date.today()\n",
    "    age = today.year - joinDate.year \\n\",\n",
    "    age= age\n",
    "    return age\n",
    "\n",
    "duration=(calculateAge(date(int(year),int(month),int(day))))\n",
    "if duration<5:\n",
    "    bouns=s*.1\n",
    "elif duration>=5 and duration<=10:\\n\",\n",
    "    bouns=s*.1+5000\n",
    "else:\n",
    "    bouns=s*.15+15000\n",
    "print(n+':',\"%.0f\"%bouns)"
   ]
  },
  {
   "cell_type": "markdown",
   "metadata": {},
   "source": [
    "# Task 9"
   ]
  },
  {
   "cell_type": "code",
   "execution_count": null,
   "metadata": {},
   "outputs": [],
   "source": [
    "def capitalization(text):\n",
    "    i = 0\n",
    "    while i < len(text):\n",
    "        if i == 0 :\n",
    "            print(text[i].upper(), end=\"\\n\")\n",
    "        elif i==len(text)-1:\n",
    "            print(text[i])\n",
    "        else:\n",
    "            if (text[i] == \\\".\\\" or text[i] == \\\"!\\\" or text[i] == \\\"?\\\")\n",
    "                print(text[i], end=\"\\\")\n",
    "                      if text[i+1]==\"\\\":\n",
    "                          i = i+1\n",
    "                print(text[i],end=\\\"\\\")\n",
    "                      i+=1\n",
    "                print(text[i].upper(),end=\"\\\")\n",
    "                      i = i+1\n",
    "                      continue\n",
    "            else:\n",
    "                      i =i+1\n",
    "                      print(text[i].upper(), end=\"\\\")\n",
    "            i=i+1\n",
    "            if (text[i] == \\\"i\\\" and text[i - 1] == \\\" \\\" and text[i + 1] == \\\" \\\")\n",
    "                print(text[i].upper(), end=\\\"\\\")\\n\",\n",
    "                      i =i+1\n",
    "                      continue\n",
    "            print(text[i], end=\\\"\\\")\n",
    "            i =i+1\n",
    "    text = input()\n",
    "    capitalization(text)\n"
   ]
  }
 ],
 "metadata": {
  "kernelspec": {
   "display_name": "Python 3",
   "language": "python",
   "name": "python3"
  },
  "language_info": {
   "codemirror_mode": {
    "name": "ipython",
    "version": 3
   },
   "file_extension": ".py",
   "mimetype": "text/x-python",
   "name": "python",
   "nbconvert_exporter": "python",
   "pygments_lexer": "ipython3",
   "version": "3.8.5"
  }
 },
 "nbformat": 4,
 "nbformat_minor": 4
}
