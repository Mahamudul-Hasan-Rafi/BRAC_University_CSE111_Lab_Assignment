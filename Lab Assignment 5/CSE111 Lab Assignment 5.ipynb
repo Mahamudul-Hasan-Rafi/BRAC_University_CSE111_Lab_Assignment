{
 "cells": [
  {
   "cell_type": "markdown",
   "metadata": {},
   "source": [
    "# Task 1"
   ]
  },
  {
   "cell_type": "code",
   "execution_count": 42,
   "metadata": {},
   "outputs": [
    {
     "name": "stdout",
     "output_type": "stream",
     "text": [
      "Quiz1(out of 10): 10\n",
      "Quiz2(out of 10): 10\n",
      "Lab(out of 30): 30\n",
      "Mid(out of 20): 20\n",
      "Final(out of 30): 30\n",
      "Total marks: 100\n"
     ]
    }
   ],
   "source": [
    "class Marks:\n",
    "    def __init__(self,mark):\n",
    "        self.mark = mark\n",
    "    def __add__(self, *a):\n",
    "        s3=self.mark\n",
    "        for i in a:\n",
    "            s3=s3+i.mark\n",
    "\n",
    "        return Marks(s3)\n",
    "\n",
    "Q1=Marks(int(input(\"Quiz1(out of 10): \")))\n",
    "Q2=Marks(int(input(\"Quiz2(out of 10): \")))\n",
    "Lab=Marks(int(input(\"Lab(out of 30): \")))\n",
    "Mid=Marks(int(input(\"Mid(out of 20): \")))\n",
    "Final=Marks(int(input(\"Final(out of 30): \")))\n",
    "total=Q1+Q2+Lab+Mid+Final\n",
    "\n",
    "print(\"Total marks: {}\".format(total.mark))"
   ]
  },
  {
   "cell_type": "markdown",
   "metadata": {},
   "source": [
    "# Task 2"
   ]
  },
  {
   "cell_type": "code",
   "execution_count": 43,
   "metadata": {},
   "outputs": [],
   "source": [
    "class Course:\n",
    "    def __init__(self, course):\n",
    "        self.course = course"
   ]
  },
  {
   "cell_type": "code",
   "execution_count": 44,
   "metadata": {},
   "outputs": [],
   "source": [
    "class Teacher:\n",
    "    def __init__(self, name, dept):\n",
    "        self.__name = name\n",
    "        self.__dept = dept\n",
    "        self.__course_name=[]\n",
    "\n",
    "    def addCourse(self,c):\n",
    "        self.__course_name.append(c.course)\n",
    "  \n",
    "    def printDetail(self):\n",
    "        print('============================================================')\n",
    "        print(f'Name: {self.__name}')\n",
    "        print(f'Department: {self.__dept}')\n",
    "        print('List of courses')\n",
    "        print('============================================================')\n",
    "        for course in self.__course_name:\n",
    "            print(course)\n",
    "        print('============================================================')"
   ]
  },
  {
   "cell_type": "code",
   "execution_count": 45,
   "metadata": {},
   "outputs": [],
   "source": [
    "t1 = Teacher(\"Saad Abdullah\", \"CSE\")\n",
    "t2 = Teacher(\"Mumit Khan\", \"CSE\")\n",
    "t3 = Teacher(\"Sadia Kazi\", \"CSE\")"
   ]
  },
  {
   "cell_type": "code",
   "execution_count": 46,
   "metadata": {},
   "outputs": [],
   "source": [
    "c1 = Course(\"CSE 110 Programming Language I\")\n",
    "c2 = Course(\"CSE 111 Programming Language-II\")\n",
    "c3 = Course(\"CSE 220 Data Structures\")\n",
    "c4 = Course(\"CSE 221 Algorithms\")\n",
    "c5 = Course(\"CCSE 230 Discrete Mathematics\")\n",
    "c6 = Course(\"CSE 310 Object Oriented Programming\")\n",
    "c7 = Course(\"CSE 320 Data Communications\")\n",
    "c8 = Course(\"CSE 340 Computer Architecture\")"
   ]
  },
  {
   "cell_type": "code",
   "execution_count": 47,
   "metadata": {},
   "outputs": [],
   "source": [
    "t1.addCourse(c1)\n",
    "t1.addCourse(c2)\n",
    "t2.addCourse(c3)\n",
    "t2.addCourse(c4)\n",
    "t2.addCourse(c5)\n",
    "t3.addCourse(c6)\n",
    "t3.addCourse(c7)\n",
    "t3.addCourse(c8)"
   ]
  },
  {
   "cell_type": "code",
   "execution_count": 48,
   "metadata": {},
   "outputs": [
    {
     "name": "stdout",
     "output_type": "stream",
     "text": [
      "============================================================\n",
      "Name: Saad Abdullah\n",
      "Department: CSE\n",
      "List of courses\n",
      "============================================================\n",
      "CSE 110 Programming Language I\n",
      "CSE 111 Programming Language-II\n",
      "============================================================\n",
      "============================================================\n",
      "Name: Mumit Khan\n",
      "Department: CSE\n",
      "List of courses\n",
      "============================================================\n",
      "CSE 220 Data Structures\n",
      "CSE 221 Algorithms\n",
      "CCSE 230 Discrete Mathematics\n",
      "============================================================\n",
      "============================================================\n",
      "Name: Sadia Kazi\n",
      "Department: CSE\n",
      "List of courses\n",
      "============================================================\n",
      "CSE 310 Object Oriented Programming\n",
      "CSE 320 Data Communications\n",
      "CSE 340 Computer Architecture\n",
      "============================================================\n"
     ]
    }
   ],
   "source": [
    "t1.printDetail()\n",
    "t2.printDetail()\n",
    "t3.printDetail()"
   ]
  },
  {
   "cell_type": "markdown",
   "metadata": {},
   "source": [
    "# Task 3"
   ]
  },
  {
   "cell_type": "code",
   "execution_count": 49,
   "metadata": {},
   "outputs": [],
   "source": [
    "class Player:\n",
    "    def __init__(self,player):\n",
    "        self.player = player"
   ]
  },
  {
   "cell_type": "code",
   "execution_count": 50,
   "metadata": {},
   "outputs": [],
   "source": [
    "class Team:\n",
    "    def __init__(self,team=\"\"):\n",
    "        self.__team = team\n",
    "        self.__players=[]\n",
    "    \n",
    "    def setName(self,team):\n",
    "        self.__team=team\n",
    "    \n",
    "    def addPlayer(self,playerObj):\n",
    "        self.__players.append(playerObj.player)\n",
    "        \n",
    "    def printDetail(self):\n",
    "        print('============================================================')\n",
    "        print(f'Team: {self.__team}')\n",
    "        print('List of Players')\n",
    "        print(self.__players)\n",
    "        print('============================================================')"
   ]
  },
  {
   "cell_type": "code",
   "execution_count": 51,
   "metadata": {},
   "outputs": [
    {
     "name": "stdout",
     "output_type": "stream",
     "text": [
      "============================================================\n",
      "Team: Bangladesh\n",
      "List of Players\n",
      "['Mashrafi', 'Tamim']\n",
      "============================================================\n",
      "============================================================\n",
      "Team: Australia\n",
      "List of Players\n",
      "['Ponting', 'Lee']\n",
      "============================================================\n"
     ]
    }
   ],
   "source": [
    "b = Team()\n",
    "b.setName('Bangladesh')\n",
    "mashrafi = Player(\"Mashrafi\")\n",
    "b.addPlayer(mashrafi)\n",
    "tamim = Player(\"Tamim\")\n",
    "b.addPlayer(tamim)\n",
    "b.printDetail()\n",
    "a = Team(\"Australia\")\n",
    "ponting = Player(\"Ponting\")\n",
    "a.addPlayer(ponting)\n",
    "lee = Player(\"Lee\")\n",
    "a.addPlayer(lee)\n",
    "a.printDetail()"
   ]
  },
  {
   "cell_type": "markdown",
   "metadata": {},
   "source": [
    "# Task 4"
   ]
  },
  {
   "cell_type": "code",
   "execution_count": 52,
   "metadata": {},
   "outputs": [
    {
     "name": "stdout",
     "output_type": "stream",
     "text": [
      "First Color: red\n",
      "Second Color: yellow\n",
      "Color formed: Orange\n"
     ]
    }
   ],
   "source": [
    "class Color:\n",
    "    def __init__(self, clr):\n",
    "        self.clr = clr\n",
    " \n",
    "    def __add__(self, o):\n",
    "        s3=self.clr\n",
    "        if self.clr==\"red\" and o.clr==\"yellow\"  :\n",
    "            s3=\"Orange\"\n",
    "            return Color(s3)\n",
    "        if self.clr==\"yellow\" and o.clr==\"red\":\n",
    "            s3=\"Orange\"\n",
    "            return Color(s3)\n",
    "        if self.clr==\"red\" and o.clr==\"blue\"  :\n",
    "            s3=\"Violet\"\n",
    "            return Color(s3)\n",
    "        if self.clr==\"blue\" and o.clr==\"red\":\n",
    "            s3=\"Violet\"\n",
    "            return Color(s3)\n",
    "        if self.clr==\"yellow\" and o.clr==\"blue\"  :\n",
    "            s3=\"Green\"\n",
    "            return Color(s3)\n",
    "        if self.clr==\"blue\" and o.clr==\"yellow\":\n",
    "            s3=\"Green\"\n",
    "            return Color(s3)\n",
    "    \n",
    "C1=Color(input(\"First Color: \").lower())\n",
    "C2 = Color(input(\"Second Color: \").lower())\n",
    "C3 = C1 + C2\n",
    "print(\"Color formed:\", C3.clr)"
   ]
  },
  {
   "cell_type": "markdown",
   "metadata": {},
   "source": [
    "# Task 5"
   ]
  },
  {
   "cell_type": "code",
   "execution_count": 53,
   "metadata": {},
   "outputs": [],
   "source": [
    "import math\n",
    "\n",
    "class Circle:\n",
    "    def __init__(self,radius):\n",
    "        self.__radius=radius\n",
    "    def getRadius(self):\n",
    "        return self.__radius\n",
    "    def area(self):\n",
    "        return math.pi*(self.__radius**2)\n",
    "    def __add__(self, other):\n",
    "        radius = self.__radius+other.__radius\n",
    "        return Circle(radius)"
   ]
  },
  {
   "cell_type": "code",
   "execution_count": 54,
   "metadata": {},
   "outputs": [
    {
     "name": "stdout",
     "output_type": "stream",
     "text": [
      "First circle radius: 4\n",
      "First circle area: 50.26548245743669\n",
      "Second circle radius: 5\n",
      "Second circle area: 78.53981633974483\n",
      "Third circle radius: 9\n",
      "Third circle area: 254.46900494077323\n"
     ]
    }
   ],
   "source": [
    "c1 = Circle(4) \n",
    "print(\"First circle radius:\" , c1.getRadius()) \n",
    "print(\"First circle area:\" ,c1.area()) \n",
    "c2 = Circle(5) \n",
    "print(\"Second circle radius:\" ,c2.getRadius()) \n",
    "print(\"Second circle area:\" ,c2.area()) \n",
    "c3 = c1 + c2\n",
    "print(\"Third circle radius:\" ,c3.getRadius()) \n",
    "print(\"Third circle area:\" ,c3.area())"
   ]
  },
  {
   "cell_type": "markdown",
   "metadata": {},
   "source": [
    "# Task 6"
   ]
  },
  {
   "cell_type": "code",
   "execution_count": 55,
   "metadata": {},
   "outputs": [],
   "source": [
    "class Triangle:\n",
    "    def __init__(self, base, height):\n",
    "        self.__base=base\n",
    "        self.__height=height\n",
    "    \n",
    "    def getBase(self):\n",
    "        return self.__base\n",
    "    \n",
    "    def getHeight(self):\n",
    "        return self.__height\n",
    "    \n",
    "    def setBase(self,b):\n",
    "        self.__base=b\n",
    "    \n",
    "    def setHeight(self,h):\n",
    "        self.__height=h\n",
    "        \n",
    "    def area(self):\n",
    "        return 0.5*self.__base*self.__height\n",
    "    \n",
    "    def __sub__(self, obj):\n",
    "        return Triangle(self.__base-obj.__base, self.__height-obj.__height)"
   ]
  },
  {
   "cell_type": "code",
   "execution_count": 56,
   "metadata": {},
   "outputs": [
    {
     "name": "stdout",
     "output_type": "stream",
     "text": [
      "First Triangle Base: 10\n",
      "First Triangle Height: 5\n",
      "First Triangle area: 25.0\n",
      "Second Triangle Base: 5\n",
      "Second Triangle Height: 3\n",
      "Second Triangle area: 7.5\n",
      "Third Triangle Base: 5\n",
      "Third Triangle Height: 2\n",
      "Third Triangle area: 5.0\n"
     ]
    }
   ],
   "source": [
    "t1 = Triangle(10, 5)\n",
    "print(\"First Triangle Base:\" , t1.getBase())\n",
    "print(\"First Triangle Height:\" , t1.getHeight())\n",
    "print(\"First Triangle area:\" ,t1.area())\n",
    "t2 = Triangle(5, 3)\n",
    "print(\"Second Triangle Base:\" , t2.getBase())\n",
    "print(\"Second Triangle Height:\" , t2.getHeight())\n",
    "print(\"Second Triangle area:\" ,t2.area())\n",
    "t3 = t1 - t2\n",
    "print(\"Third Triangle Base:\" , t3.getBase())\n",
    "print(\"Third Triangle Height:\" , t3.getHeight())\n",
    "print(\"Third Triangle area:\" ,t3.area())"
   ]
  },
  {
   "cell_type": "markdown",
   "metadata": {},
   "source": [
    "# Task 7"
   ]
  },
  {
   "cell_type": "code",
   "execution_count": 57,
   "metadata": {},
   "outputs": [],
   "source": [
    "class Dolls:\n",
    "    def __init__(self, name, price):\n",
    "        self.name=name\n",
    "        self.price=price\n",
    "        \n",
    "    def detail(self):\n",
    "        return f'Doll: {self.name}\\nTotal Price: {self.price} taka'\n",
    "    \n",
    "    def __gt__(self, obj):\n",
    "        if(self.price>obj.price):\n",
    "            return True\n",
    "        else:\n",
    "            return False\n",
    "\n",
    "    def __add__(self, obj):\n",
    "        return Dolls(self.name+obj.name, self.price+obj.price)"
   ]
  },
  {
   "cell_type": "code",
   "execution_count": 58,
   "metadata": {},
   "outputs": [
    {
     "name": "stdout",
     "output_type": "stream",
     "text": [
      "Doll: Tweety\n",
      "Total Price: 2500 taka\n",
      "Thank you!\n",
      "=========================\n",
      "Doll: Daffy Duck\n",
      "Total Price: 1800 taka\n",
      "Thank you!\n",
      "=========================\n",
      "Doll: Bugs Bunny\n",
      "Total Price: 3000 taka\n",
      "Congratulations! You get the Tweety as a gift!\n",
      "=========================\n",
      "Doll: Porky Pig\n",
      "Total Price: 1500 taka\n",
      "Thank you!\n",
      "=========================\n",
      "Doll: Daffy DuckBugs Bunny\n",
      "Total Price: 4800 taka\n",
      "Congratulations! You get the Tweety as a gift!\n"
     ]
    }
   ],
   "source": [
    "obj_1 = Dolls(\"Tweety\", 2500)\n",
    "print(obj_1.detail())\n",
    "\n",
    "if obj_1 > obj_1: \n",
    "    print(\"Congratulations! You get the Tweety as a gift!\")\n",
    "else:\n",
    "    print(\"Thank you!\")\n",
    "print(\"=========================\")\n",
    "\n",
    "obj_2 = Dolls(\"Daffy Duck\", 1800)\n",
    "print(obj_2.detail())\n",
    "\n",
    "if obj_2 > obj_1:\n",
    "    print(\"Congratulations! You get the Tweety as a gift!\")\n",
    "else:\n",
    "    print(\"Thank you!\")\n",
    "print(\"=========================\")\n",
    "\n",
    "obj_3 = Dolls(\"Bugs Bunny\", 3000)\n",
    "print(obj_3.detail())\n",
    "\n",
    "if obj_3 > obj_1:\n",
    "    print(\"Congratulations! You get the Tweety as a gift!\")\n",
    "else:\n",
    "    print(\"Thank you!\")\n",
    "print(\"=========================\")\n",
    "\n",
    "obj_4 = Dolls(\"Porky Pig\", 1500)\n",
    "print(obj_4.detail())\n",
    "\n",
    "if obj_4 > obj_1:\n",
    "    print(\"Congratulations! You get the Tweety as a gift!\")\n",
    "else:\n",
    "    print(\"Thank you!\")\n",
    "print(\"=========================\")\n",
    "\n",
    "obj_5 = obj_2 + obj_3\n",
    "print(obj_5.detail())\n",
    "\n",
    "if obj_5 > obj_1:\n",
    "     print(\"Congratulations! You get the Tweety as a gift!\")\n",
    "else:\n",
    "     print(\"Thank you!\")"
   ]
  },
  {
   "cell_type": "markdown",
   "metadata": {},
   "source": [
    "# Task 8"
   ]
  },
  {
   "cell_type": "code",
   "execution_count": 59,
   "metadata": {},
   "outputs": [],
   "source": [
    "\n",
    "class Coordinates:\n",
    "    def __init__(self,x,y):\n",
    "        self.x=x\n",
    "        self.y=y\n",
    "    def __sub__(self, cord):\n",
    "        return Coordinates(self.x-cord.x,self.y-cord.y)\n",
    "    def __mul__(self, cord):\n",
    "        return Coordinates(self.x*cord.x,self.y*cord.y)\n",
    "    def __eq__(self, cord):\n",
    "        if(self.x==cord.x and self.y==cord.y):\n",
    "            return \"The calculated coordinates are the same.\"\n",
    "        else:\n",
    "            return \"The calculated coordinates are NOT the same.\"\n",
    "    def detail(self):\n",
    "        return f'({self.x}, {self.y})'"
   ]
  },
  {
   "cell_type": "code",
   "execution_count": 60,
   "metadata": {},
   "outputs": [
    {
     "name": "stdout",
     "output_type": "stream",
     "text": [
      "1\n",
      "2\n",
      "3\n",
      "4\n",
      "(-2, -2)\n",
      "(3, 8)\n",
      "The calculated coordinates are NOT the same.\n"
     ]
    }
   ],
   "source": [
    "p1 = Coordinates(int(input()),int(input()))\n",
    "p2 = Coordinates(int(input()),int(input()))\n",
    "p4 = p1 - p2\n",
    "print(p4.detail())\n",
    "p5 = p1 * p2\n",
    "print(p5.detail())\n",
    "point_check = (p4 == p5)\n",
    "print(point_check)"
   ]
  }
 ],
 "metadata": {
  "kernelspec": {
   "display_name": "Python 3",
   "language": "python",
   "name": "python3"
  },
  "language_info": {
   "codemirror_mode": {
    "name": "ipython",
    "version": 3
   },
   "file_extension": ".py",
   "mimetype": "text/x-python",
   "name": "python",
   "nbconvert_exporter": "python",
   "pygments_lexer": "ipython3",
   "version": "3.8.5"
  }
 },
 "nbformat": 4,
 "nbformat_minor": 4
}
