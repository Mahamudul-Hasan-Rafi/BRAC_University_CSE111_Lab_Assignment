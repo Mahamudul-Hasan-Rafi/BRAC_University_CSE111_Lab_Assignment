{
 "cells": [
  {
   "cell_type": "markdown",
   "metadata": {},
   "source": [
    "# Task 1"
   ]
  },
  {
   "cell_type": "code",
   "execution_count": 1,
   "metadata": {},
   "outputs": [
    {
     "name": "stdout",
     "output_type": "stream",
     "text": [
      "Let's Calculate!\n",
      "Value 1: 4\n",
      "Operator: *\n",
      "Value 2: 5\n",
      "Result:  20\n"
     ]
    }
   ],
   "source": [
    "class Calculator:\n",
    "    def __init__(self):\n",
    "        print('Let\\'s Calculate!')\n",
    "    def add(self,a,b):\n",
    "        return a+b\n",
    "    def subtract(self,a,b):\n",
    "        return a-b\n",
    "    def multiply(self,a,b):\n",
    "        return a*b\n",
    "    def divide(self,a,b):\n",
    "        return a//b\n",
    "    \n",
    "calc=Calculator()\n",
    "first_value=int(input('Value 1: '))\n",
    "operator=input('Operator: ')\n",
    "second_value=int(input('Value 2: '))\n",
    "\n",
    "if operator=='+':\n",
    "    print(f'Result:  {calc.add(first_value,second_value)}')\n",
    "elif operator=='-':\n",
    "    print(f'Result:  {calc.subtract(first_value,second_value)}')\n",
    "elif operator=='*':\n",
    "    print(f'Result:  {calc.multiply(first_value,second_value)}')\n",
    "elif operator=='/':\n",
    "    print(f'Result:  {calc.divide(first_value,second_value)}')"
   ]
  },
  {
   "cell_type": "markdown",
   "metadata": {},
   "source": [
    "# Task 2"
   ]
  },
  {
   "cell_type": "code",
   "execution_count": 2,
   "metadata": {},
   "outputs": [
    {
     "name": "stdout",
     "output_type": "stream",
     "text": [
      "Hello!\n",
      "Sam, you purchased 3 item(s):\n",
      "chips\n",
      "chocolate\n",
      "orange juice\n",
      "---------------------\n",
      "Hello David!\n",
      "David, you purchased 1 item(s):\n",
      "orange juice\n"
     ]
    }
   ],
   "source": [
    "class Customer:\n",
    "    def __init__(self, name):\n",
    "        self.name=name\n",
    "    def greet(self, c_name=None):\n",
    "        if c_name==None:\n",
    "            print(f'Hello!')\n",
    "        else:\n",
    "            print(f'Hello {c_name}!')\n",
    "    def purchase(self,*arguments):\n",
    "        print(f'{self.name}, you purchased {len(arguments)} item(s):')\n",
    "        \n",
    "        for item in arguments:\n",
    "            print(item)\n",
    "        \n",
    "customer_1 = Customer(\"Sam\")\n",
    "customer_1.greet()\n",
    "customer_1.purchase(\"chips\",\"chocolate\",\"orange juice\")\n",
    "print(\"---------------------\")\n",
    "customer_2 = Customer(\"David\")\n",
    "customer_2.greet(\"David\")\n",
    "customer_2.purchase(\"orange juice\")"
   ]
  },
  {
   "cell_type": "markdown",
   "metadata": {},
   "source": [
    "# Task 3"
   ]
  },
  {
   "cell_type": "code",
   "execution_count": 3,
   "metadata": {},
   "outputs": [
    {
     "name": "stdout",
     "output_type": "stream",
     "text": [
      "Kunfu is a Male Panda Bear who is 5 years old\n",
      "Pan Pan is a Female Panda Bear who is 3 years old\n",
      "Ming Ming is a Female Panda Bear who is 8 years old\n",
      "==============================\n",
      "Pan Pan sleeps 10 daily and should have Broccoli Chicken\n",
      "Kunfu sleeps 4 daily and should have Mixed Veggies\n",
      "Ming Ming's duration is unknown thus should have only bamboo leaves\n"
     ]
    }
   ],
   "source": [
    "class Panda:\n",
    "    def __init__(self, name, gender, age):\n",
    "        self.name=name\n",
    "        self.gender=gender\n",
    "        self.age=age\n",
    "    def sleep(self,hours=None):\n",
    "        if(hours==None):\n",
    "            return f'{self.name}\\'s duration is unknown thus should have only bamboo leaves'\n",
    "        else:\n",
    "            if(hours>=3 and hours<=5):\n",
    "                return f'{self.name} sleeps {hours} daily and should have Mixed Veggies'\n",
    "            elif(hours>=6 and hours<=8):\n",
    "                return f'{self.name} sleeps {hours} daily and should have Eggplant & Tofu'\n",
    "            elif(hours>=9 and hours<=11):\n",
    "                return f'{self.name} sleeps {hours} daily and should have Broccoli Chicken'\n",
    "                    \n",
    "panda1=Panda('Kunfu','Male',5)\n",
    "panda2=Panda('Pan Pan','Female',3)\n",
    "panda3=Panda('Ming Ming','Female',8)\n",
    "\n",
    "print('{} is a {} Panda Bear who is {} years old'.format(panda1.name, panda1.gender, panda1.age))\n",
    "print('{} is a {} Panda Bear who is {} years old'.format(panda2.name, panda2.gender, panda2.age))\n",
    "print('{} is a {} Panda Bear who is {} years old'.format(panda3.name, panda3.gender, panda3.age))\n",
    "\n",
    "print('==============================')\n",
    "\n",
    "print(panda2.sleep(10))\n",
    "print(panda1.sleep(4))\n",
    "print(panda3.sleep())"
   ]
  },
  {
   "cell_type": "markdown",
   "metadata": {},
   "source": [
    "# Task 4"
   ]
  },
  {
   "cell_type": "code",
   "execution_count": 2,
   "metadata": {},
   "outputs": [
    {
     "name": "stdout",
     "output_type": "stream",
     "text": [
      "White cat is sitting\n",
      "Black cat is sitting\n",
      "Brown cat is jumping\n",
      "Red cat is purring\n",
      "Blue cat is sitting\n",
      "Purple cat is jumping\n"
     ]
    }
   ],
   "source": [
    "class Cat:\n",
    "    def __init__(self, color=None, activity=None):\n",
    "        if color is not None and activity is not None:\n",
    "            self.color=color\n",
    "            self.activity=activity\n",
    "        elif color is not None:\n",
    "            self.color=color\n",
    "            self.activity='sitting'\n",
    "        else:\n",
    "            self.color='White'\n",
    "            self.activity='sitting'\n",
    "    \n",
    "    def printCat(self):\n",
    "        print('{} cat is {}'.format(self.color, self.activity))\n",
    "        \n",
    "    def changeColor(self, new_color):\n",
    "        self.color=new_color\n",
    "        \n",
    "c1 = Cat()\n",
    "c2 = Cat(\"Black\")\n",
    "c3 = Cat(\"Brown\", \"jumping\")\n",
    "c4 = Cat(\"Red\", \"purring\")\n",
    "c1.printCat()\n",
    "c2.printCat()\n",
    "c3.printCat()\n",
    "c4.printCat()\n",
    "c1.changeColor(\"Blue\")\n",
    "c3.changeColor(\"Purple\")\n",
    "c1.printCat()\n",
    "c3.printCat()"
   ]
  },
  {
   "cell_type": "markdown",
   "metadata": {},
   "source": [
    "# Task 5"
   ]
  },
  {
   "cell_type": "code",
   "execution_count": 11,
   "metadata": {},
   "outputs": [
    {
     "name": "stdout",
     "output_type": "stream",
     "text": [
      "Hello default student\n",
      "--------------------------------\n",
      "Your average quiz score is 3.3333333333333335\n",
      "\n",
      "Hello Harry\n",
      "--------------------------------\n",
      "Your average quiz score is 6.0\n",
      "\n",
      "Hello Hermione\n",
      "--------------------------------\n",
      "Your average quiz score is 9.666666666666666\n",
      "\n"
     ]
    }
   ],
   "source": [
    "class Student:\n",
    "    def __init__(self, name=None):\n",
    "        if name is not None:\n",
    "            self.name=name\n",
    "            print('Hello {}'.format(self.name))\n",
    "        else:\n",
    "            print('Hello default student')\n",
    "    \n",
    "    def quizcalc(self,*marks):\n",
    "        sum_=0\n",
    "        for m in marks:\n",
    "            sum_+=m\n",
    "        self.avg=sum_/3\n",
    "    \n",
    "    def printdetail(self):\n",
    "        print('Your average quiz score is {}\\n'.format(self.avg))\n",
    "        \n",
    "s1 = Student()\n",
    "s1.quizcalc(10)\n",
    "print('--------------------------------')\n",
    "s1.printdetail()\n",
    "s2 = Student('Harry')\n",
    "s2.quizcalc(10,8)\n",
    "print('--------------------------------')\n",
    "s2.printdetail()\n",
    "s3 = Student('Hermione')\n",
    "s3.quizcalc(10,9,10)\n",
    "print('--------------------------------')\n",
    "s3.printdetail()"
   ]
  },
  {
   "cell_type": "markdown",
   "metadata": {},
   "source": [
    "# Task 6"
   ]
  },
  {
   "cell_type": "code",
   "execution_count": 14,
   "metadata": {},
   "outputs": [
    {
     "name": "stdout",
     "output_type": "stream",
     "text": [
      "(0, 0)\n",
      "(0, 1)\n",
      "(-1, 1)\n",
      "(-1, 0)\n"
     ]
    }
   ],
   "source": [
    "class Vehicle:\n",
    "    def __init__(self):\n",
    "        self.x=0\n",
    "        self.y=0\n",
    "        \n",
    "    def print_position(self):\n",
    "        print((self.x,self.y))\n",
    "        \n",
    "    def moveUp(self):\n",
    "        self.y+=1\n",
    "    \n",
    "    def moveDown(self):\n",
    "        self.y-=1\n",
    "        \n",
    "    def moveLeft(self):\n",
    "        self.x-=1\n",
    "        \n",
    "    def moveRight(self):\n",
    "        self.x+=1\n",
    "        \n",
    "car = Vehicle()\n",
    "car.print_position()\n",
    "car.moveUp()\n",
    "car.print_position()\n",
    "car.moveLeft()\n",
    "car.print_position()\n",
    "car.moveDown()\n",
    "car.print_position()\n",
    "car.moveRight()"
   ]
  },
  {
   "cell_type": "markdown",
   "metadata": {},
   "source": [
    "# Task 7"
   ]
  },
  {
   "cell_type": "code",
   "execution_count": 17,
   "metadata": {},
   "outputs": [
    {
     "name": "stdout",
     "output_type": "stream",
     "text": [
      "Horray! A new programmer is born\n",
      "Name: Ethen Hunt\n",
      "Language: Java\n",
      "Experience: 10\n",
      "--------------------------\n",
      "Horray! A new programmer is born\n",
      "Name: James Bond\n",
      "Language: C++\n",
      "Experience: 7\n",
      "--------------------------\n",
      "Horray! A new programmer is born\n",
      "Name: Jon Snow\n",
      "Language: Python\n",
      "Experience: 4\n",
      "Updating experience of Jon Snow\n",
      "Name: Jon Snow\n",
      "Language: Python\n",
      "Experience: 9\n"
     ]
    }
   ],
   "source": [
    "class Programmer:\n",
    "    def __init__(self, name, language, exp):\n",
    "        self.name=name\n",
    "        self.language=language\n",
    "        self.exp=exp\n",
    "        \n",
    "        print('Horray! A new programmer is born')\n",
    "        \n",
    "    def printDetails(self):\n",
    "        print('Name: {}'.format(self.name))\n",
    "        print('Language: {}'.format(self.language))\n",
    "        print('Experience: {}'.format(self.exp))\n",
    "        \n",
    "    def addExp(self, expr):\n",
    "        print('Updating experience of {}'.format(self.name))\n",
    "        self.exp+=expr\n",
    "\n",
    "p1 = Programmer(\"Ethen Hunt\", \"Java\", 10)\n",
    "p1.printDetails()\n",
    "print('--------------------------')\n",
    "p2 = Programmer(\"James Bond\", \"C++\", 7)\n",
    "p2.printDetails()\n",
    "print('--------------------------')\n",
    "p3 = Programmer(\"Jon Snow\", \"Python\", 4)\n",
    "p3.printDetails()\n",
    "p3.addExp(5)\n",
    "p3.printDetails()"
   ]
  },
  {
   "cell_type": "markdown",
   "metadata": {},
   "source": [
    "# Task 8"
   ]
  },
  {
   "cell_type": "code",
   "execution_count": 18,
   "metadata": {},
   "outputs": [
    {
     "name": "stdout",
     "output_type": "stream",
     "text": [
      "Name: Harry Potter\n",
      "ID: 123\n",
      "Department: CSE\n",
      "Daily Effort: 3 hour(s)\n",
      "Suggestion: Keep up the good work!\n",
      "========================\n",
      "Name: John Wick\n",
      "ID: 456\n",
      "Department: BBA\n",
      "Daily Effort: 2 hour(s)\n",
      "Suggestion: Should give more effort!\n",
      "========================\n",
      "Name: Naruto Uzumaki\n",
      "ID: 777\n",
      "Department: Ninja\n",
      "Daily Effort: 6 hour(s)\n",
      "Suggestion: Excellent! Now motivate others.\n"
     ]
    }
   ],
   "source": [
    "class Student:\n",
    "    def __init__(self, name, ID, dept='CSE'):\n",
    "        self.name=name\n",
    "        self.ID=ID\n",
    "        self.dept=dept\n",
    "    \n",
    "    def dailyEffort(self, hours):\n",
    "        self.hours=hours\n",
    "        \n",
    "    def printDetails(self):\n",
    "        print('Name: {}'.format(self.name))\n",
    "        print('ID: {}'.format(self.ID))\n",
    "        print('Department: {}'.format(self.dept))\n",
    "        print('Daily Effort: {} hour(s)'.format(self.hours))\n",
    "        \n",
    "        if(self.hours<=2):\n",
    "            print('Suggestion: Should give more effort!')\n",
    "        elif(self.hours<=4):\n",
    "            print('Suggestion: Keep up the good work!')\n",
    "        else:\n",
    "            print('Suggestion: Excellent! Now motivate others.')\n",
    "            \n",
    "harry = Student('Harry Potter', 123)\n",
    "harry.dailyEffort(3)\n",
    "harry.printDetails()\n",
    "print('========================')\n",
    "john = Student(\"John Wick\", 456, \"BBA\")\n",
    "john.dailyEffort(2)\n",
    "john.printDetails()\n",
    "print('========================')\n",
    "naruto = Student(\"Naruto Uzumaki\", 777, \"Ninja\")\n",
    "naruto.dailyEffort(6)\n",
    "naruto.printDetails()"
   ]
  },
  {
   "cell_type": "markdown",
   "metadata": {},
   "source": [
    "# Task 9"
   ]
  },
  {
   "cell_type": "code",
   "execution_count": 23,
   "metadata": {},
   "outputs": [
    {
     "name": "stdout",
     "output_type": "stream",
     "text": [
      "=========================\n",
      "Name: Thomas\n",
      "Age: 23\n",
      "Symptoms: Headache\n",
      "=========================\n",
      "Name: Carol\n",
      "Age: 20\n",
      "Symptoms: Vomiting, Coughing\n",
      "=========================\n",
      "Name: Mike\n",
      "Age: 25\n",
      "Symptoms: Fever, Headache, Coughing\n",
      "=========================\n"
     ]
    }
   ],
   "source": [
    "class Patient:\n",
    "    def __init__(self, name, age):\n",
    "        self.name=name\n",
    "        self.age=age\n",
    "        \n",
    "    def add_Symptom(self, *args):\n",
    "        self.symptoms=args\n",
    "        \n",
    "    def printPatientDetail(self):\n",
    "        print('Name: {}'.format(self.name))\n",
    "        print('Age: {}'.format(self.age))\n",
    "        print('Symptoms:',end=' ')\n",
    "        \n",
    "        for i in range(len(self.symptoms)-1):\n",
    "            print(self.symptoms[i],end=', ')\n",
    "        print(self.symptoms[len(self.symptoms)-1])\n",
    "        \n",
    "p1 = Patient('Thomas', 23)\n",
    "p1.add_Symptom('Headache')\n",
    "p2 = Patient('Carol', 20)\n",
    "p2.add_Symptom('Vomiting', 'Coughing')\n",
    "p3 = Patient('Mike', 25)\n",
    "p3.add_Symptom('Fever', 'Headache', 'Coughing')\n",
    "print(\"=========================\")\n",
    "p1.printPatientDetail()\n",
    "print(\"=========================\")\n",
    "p2.printPatientDetail()\n",
    "print(\"=========================\")\n",
    "p3.printPatientDetail()\n",
    "print(\"=========================\")"
   ]
  },
  {
   "cell_type": "markdown",
   "metadata": {},
   "source": [
    "# Task 10"
   ]
  },
  {
   "cell_type": "code",
   "execution_count": 25,
   "metadata": {},
   "outputs": [
    {
     "name": "stdout",
     "output_type": "stream",
     "text": [
      "=========================\n",
      "Name: Captain America\n",
      "Partner: Bucky Barnes\n",
      "Super powers: Stamina, Slowed ageing\n",
      "=========================\n",
      "Name: Doctor Strange\n",
      "Partner: Ancient One\n",
      "Super powers: Mastery of magic\n",
      "=========================\n",
      "Name: Iron Man\n",
      "Partner: War Machine\n",
      "Super powers: Genius level intellect, Scientist \n",
      "=========================\n"
     ]
    }
   ],
   "source": [
    "class Avengers:\n",
    "    def __init__(self, name, partner):\n",
    "        self.name=name\n",
    "        self.partner=partner\n",
    "        \n",
    "    def super_powers(self, *args):\n",
    "        self.powers=args\n",
    "        \n",
    "    def printAvengersDetail(self):\n",
    "        print('Name: {}'.format(self.name))\n",
    "        print('Partner: {}'.format(self.partner))\n",
    "        print('Super powers:',end=' ')\n",
    "        \n",
    "        for i in range(len(self.powers)-1):\n",
    "            print(self.powers[i],end=', ')\n",
    "        print(self.powers[len(self.powers)-1])\n",
    "        \n",
    "a1 = Avengers('Captain America', 'Bucky Barnes')\n",
    "a1.super_powers('Stamina', 'Slowed ageing')\n",
    "a2 = Avengers('Doctor Strange', 'Ancient One')\n",
    "a2.super_powers('Mastery of magic')\n",
    "a3 = Avengers('Iron Man', 'War Machine')\n",
    "a3.super_powers('Genius level intellect', 'Scientist ')\n",
    "print(\"=========================\")\n",
    "a1.printAvengersDetail()\n",
    "print(\"=========================\")\n",
    "a2.printAvengersDetail()\n",
    "print(\"=========================\")\n",
    "a3.printAvengersDetail()\n",
    "print(\"=========================\")"
   ]
  },
  {
   "cell_type": "markdown",
   "metadata": {},
   "source": [
    "# Task 11"
   ]
  },
  {
   "cell_type": "code",
   "execution_count": 26,
   "metadata": {},
   "outputs": [
    {
     "name": "stdout",
     "output_type": "stream",
     "text": [
      "Name:  Naruto\n",
      "Rank:  Genin\n",
      "Number of mission:  5\n",
      "Salary:  250\n",
      "====================\n",
      "Name:  Shikamaru\n",
      "Rank:  Genin\n",
      "Number of mission:  0\n",
      "Salary:  0\n",
      "Name:  Shikamaru\n",
      "Rank:  Chunin\n",
      "Number of mission:  10\n",
      "Salary:  1000\n",
      "====================\n",
      "Name:  Neiji\n",
      "Rank:  Jonin\n",
      "Number of mission:  5\n",
      "Salary:  2500\n"
     ]
    }
   ],
   "source": [
    "class Shinobi:\n",
    "    def __init__(self, name, rank):\n",
    "        self.name=name\n",
    "        self.rank=rank\n",
    "        self.salary=0\n",
    "        self.mission=0\n",
    "        \n",
    "    def changeRank(self, rnk):\n",
    "        self.rank=rnk\n",
    "        \n",
    "    def calSalary(self,m):\n",
    "        self.mission=m\n",
    "        \n",
    "        if self.rank=='Genin':\n",
    "            self.salary=self.mission*50\n",
    "        elif self.rank=='Chunin':\n",
    "            self.salary=self.mission*100\n",
    "        else:\n",
    "            self.salary=self.mission*500\n",
    "            \n",
    "    def printInfo(self):\n",
    "        print('Name: ',self.name)\n",
    "        print('Rank: ',self.rank)\n",
    "        print('Number of mission: ',self.mission)\n",
    "        print('Salary: ',self.salary)\n",
    "\n",
    "naruto = Shinobi(\"Naruto\", \"Genin\")\n",
    "naruto.calSalary(5)\n",
    "naruto.printInfo()\n",
    "print('====================')\n",
    "shikamaru = Shinobi('Shikamaru', \"Genin\")\n",
    "shikamaru.printInfo()\n",
    "shikamaru.changeRank(\"Chunin\")\n",
    "shikamaru.calSalary(10)\n",
    "shikamaru.printInfo()\n",
    "print('====================')\n",
    "neiji = Shinobi(\"Neiji\", \"Jonin\")\n",
    "neiji.calSalary(5)\n",
    "neiji.printInfo()"
   ]
  },
  {
   "cell_type": "markdown",
   "metadata": {},
   "source": [
    "# Task 12"
   ]
  },
  {
   "cell_type": "code",
   "execution_count": 35,
   "metadata": {},
   "outputs": [
    {
     "name": "stdout",
     "output_type": "stream",
     "text": [
      "**********************\n",
      "Customer Name: No name set\n",
      "Product Weight: 0\n",
      "Total fee: 0\n",
      "**********************\n",
      "Customer Name: Bob The Builder\n",
      "Product Weight: 0\n",
      "Total fee: 0\n",
      "----------------------------\n",
      "Customer Name: Bob The Builder\n",
      "Product Weight: 15\n",
      "Total fee: 350\n",
      "**********************\n",
      "Customer Name: Dora The Explorer\n",
      "Product Weight: 10\n",
      "Total fee: 300\n"
     ]
    }
   ],
   "source": [
    "class ParcelKoro:\n",
    "    def __init__(self, name=None, p_weight=0):\n",
    "        self.name=name\n",
    "        self.product_weight=p_weight\n",
    "    \n",
    "    def calculateFee(self,location=None):\n",
    "        if location is None:\n",
    "            self.location_charge=50\n",
    "        else:\n",
    "            self.location_charge=100\n",
    "        \n",
    "        if self.product_weight==0:\n",
    "            self.total_fee=0\n",
    "        else:\n",
    "            self.total_fee=(self.product_weight*20)+self.location_charge\n",
    "        \n",
    "    def printDetails(self):\n",
    "        if self.name is None:\n",
    "            print('Customer Name: No name set')\n",
    "        else:\n",
    "            print('Customer Name: {}'.format(self.name))\n",
    "        print('Product Weight: {}'.format(self.product_weight))\n",
    "        print('Total fee: {}'.format(self.total_fee))\n",
    "\n",
    "print(\"**********************\")\n",
    "p1 = ParcelKoro()\n",
    "p1.calculateFee()\n",
    "p1.printDetails()\n",
    "print(\"**********************\")\n",
    "p2 = ParcelKoro('Bob The Builder')\n",
    "p2.calculateFee()\n",
    "p2.printDetails()\n",
    "print(\"----------------------------\")\n",
    "p2.product_weight = 15\n",
    "p2.calculateFee()\n",
    "p2.printDetails()\n",
    "print(\"**********************\")\n",
    "p3 = ParcelKoro('Dora The Explorer', 10)\n",
    "p3.calculateFee('Dhanmondi')\n",
    "p3.printDetails()"
   ]
  },
  {
   "cell_type": "markdown",
   "metadata": {},
   "source": [
    "# Task 13"
   ]
  },
  {
   "cell_type": "code",
   "execution_count": 46,
   "metadata": {},
   "outputs": [
    {
     "name": "stdout",
     "output_type": "stream",
     "text": [
      "Name: New Batsman\n",
      "Runs Scored: 6101 , Balls Faced: 7380\n",
      "============================\n",
      "Name: Liton Das\n",
      "Runs Scored: 678 , Balls Faced: 773\n",
      "----------------------------\n",
      "87.71021992238033\n",
      "============================\n",
      "Name: Shakib Al Hasan\n",
      "Runs Scored: 6101 , Balls Faced: 7380\n",
      "----------------------------\n",
      "82.66937669376694\n"
     ]
    }
   ],
   "source": [
    "class Batsman:\n",
    "    def __init__(self, a=None, b=None, c=None):\n",
    "        if(type(a) is str):\n",
    "            self.name=a\n",
    "            self.runsScored=b\n",
    "            self.ballsFaced=c\n",
    "        else:\n",
    "            self.runsScored=a\n",
    "            self.ballsFaced=b\n",
    "            self.name='New Batsman'\n",
    "    \n",
    "    def setName(self, n):\n",
    "        self.name=n\n",
    "        \n",
    "    def printCareerStatistics(self):\n",
    "        print('Name: {}'.format(self.name))\n",
    "        print('Runs Scored: {} , Balls Faced: {}'.format(self.runsScored,self.ballsFaced))\n",
    "        \n",
    "    def battingStrikeRate(self):\n",
    "        return (self.runsScored/self.ballsFaced)*100\n",
    "    \n",
    "b1 = Batsman(6101, 7380)\n",
    "b1.printCareerStatistics()\n",
    "print(\"============================\")\n",
    "b2 = Batsman(\"Liton Das\", 678, 773)\n",
    "b2.printCareerStatistics()\n",
    "print(\"----------------------------\")\n",
    "print(b2.battingStrikeRate())\n",
    "print(\"============================\")\n",
    "b1.setName(\"Shakib Al Hasan\")\n",
    "b1.printCareerStatistics()\n",
    "print(\"----------------------------\")\n",
    "print(b1.battingStrikeRate())"
   ]
  },
  {
   "cell_type": "markdown",
   "metadata": {},
   "source": [
    "# Task 14"
   ]
  },
  {
   "cell_type": "code",
   "execution_count": 51,
   "metadata": {},
   "outputs": [
    {
     "name": "stdout",
     "output_type": "stream",
     "text": [
      "===================\n",
      "Name: Manchester United\n",
      "Song: Glory Glory Man United\n",
      "Total No of title: 0\n",
      "##################\n",
      "Name: Manchester United\n",
      "Song: Glory Glory Man United\n",
      "Total No of title: 1\n",
      "===================\n",
      "Name: Chelsea\n",
      "Song: No Slogan\n",
      "Total No of title: 0\n",
      "Name: Chelsea\n",
      "Song: Keep the blue flag flying high\n",
      "Total No of title: 0\n"
     ]
    }
   ],
   "source": [
    "class EPL_Team:\n",
    "    def __init__(self, name, song=None):\n",
    "        self.name=name\n",
    "        self.song=song\n",
    "        if self.song is None:\n",
    "            self.song='No Slogan'\n",
    "        self.title=0\n",
    "        \n",
    "    def increaseTitle(self):\n",
    "        self.title+=1\n",
    "        \n",
    "    def changeSong(self,sng):\n",
    "        self.song=sng\n",
    "        \n",
    "    def showClubInfo(self):\n",
    "        return 'Name: {}\\nSong: {}\\nTotal No of title: {}'.format(self.name, self.song, self.title)\n",
    "        \n",
    "manu = EPL_Team('Manchester United', 'Glory Glory Man United')\n",
    "chelsea = EPL_Team('Chelsea')\n",
    "print('===================')\n",
    "print(manu.showClubInfo())\n",
    "print('##################')\n",
    "manu.increaseTitle()\n",
    "print(manu.showClubInfo())\n",
    "print('===================')\n",
    "print(chelsea.showClubInfo())\n",
    "chelsea.changeSong('Keep the blue flag flying high')\n",
    "print(chelsea.showClubInfo())"
   ]
  },
  {
   "cell_type": "markdown",
   "metadata": {},
   "source": [
    "# Task 15"
   ]
  },
  {
   "cell_type": "code",
   "execution_count": 53,
   "metadata": {},
   "outputs": [
    {
     "name": "stdout",
     "output_type": "stream",
     "text": [
      "Default Account\n",
      "0.0\n",
      "------------------------\n",
      "Oliver\n",
      "10000.0\n",
      "------------------------\n",
      "Liam\n",
      "0.0\n",
      "------------------------\n",
      "Noah\n",
      "400\n",
      "------------------------\n",
      "Sorry, Withdraw unsuccessful! The account balance after deducting withdraw amount is equal to or less than minimum.\n",
      "------------------------\n",
      "Sorry, Withdraw unsuccessful! The account balance after deducting withdraw amount is equal to or less than minimum.\n",
      "------------------------\n",
      "Withdraw successful! New balance is: 3071.0\n"
     ]
    }
   ],
   "source": [
    "class Account:\n",
    "    def __init__(self,name=None,balance=0.0):\n",
    "        self.name=name\n",
    "        self.balance=balance\n",
    "        \n",
    "        if self.name is None:\n",
    "            self.name='Default Account'\n",
    "    \n",
    "    def details(self):\n",
    "        return '{}\\n{}'.format(self.name, self.balance)\n",
    "    \n",
    "    def withdraw(self, amount):\n",
    "        if(self.balance<amount):\n",
    "            print('Sorry, Withdraw unsuccessful! The account balance after deducting withdraw amount is equal to or less than minimum.')\n",
    "        elif(self.balance>amount):\n",
    "            b=self.balance-amount\n",
    "            if(b<=(self.balance*0.307)):\n",
    "                print('Sorry, Withdraw unsuccessful! The account balance after deducting withdraw amount is equal to or less than minimum.')\n",
    "            else:\n",
    "                print('Withdraw successful! New balance is: {}'.format(b))\n",
    "\n",
    "a1 = Account()\n",
    "print(a1.details())\n",
    "print(\"------------------------\")\n",
    "a1.name = \"Oliver\"\n",
    "a1.balance = 10000.0\n",
    "print(a1.details())\n",
    "print(\"------------------------\")\n",
    "a2 = Account(\"Liam\")\n",
    "print(a2.details())\n",
    "print(\"------------------------\")\n",
    "a3 = Account(\"Noah\",400)\n",
    "print(a3.details())\n",
    "print(\"------------------------\")\n",
    "a1.withdraw(6930);\n",
    "print(\"------------------------\")\n",
    "a2.withdraw(600);\n",
    "print(\"------------------------\")\n",
    "a1.withdraw(6929)"
   ]
  },
  {
   "cell_type": "markdown",
   "metadata": {},
   "source": [
    "# Task 16"
   ]
  },
  {
   "cell_type": "code",
   "execution_count": 56,
   "metadata": {},
   "outputs": [
    {
     "name": "stdout",
     "output_type": "stream",
     "text": [
      "Author Name: Humayun Ahmed\n",
      "--------\n",
      "List of Books: \n",
      "Deyal\n",
      "Megher Opor Bari\n",
      "===================\n",
      "Default\n",
      "===================\n",
      "Author Name: Mario Puzo\n",
      "--------\n",
      "List of Books: \n",
      "The Godfather\n",
      "Omerta\n",
      "The Sicilian\n",
      "===================\n",
      "Author Name: Paolo Coelho\n",
      "--------\n",
      "List of Books: \n",
      "The Alchemist\n",
      "The Fifth Mountain\n"
     ]
    }
   ],
   "source": [
    "class Author:\n",
    "    def __init__(self, name=None, *args):\n",
    "        self.name=name\n",
    "        self.books=list(args)\n",
    "        \n",
    "        if self.name is None:\n",
    "            self.name='Default'\n",
    "            \n",
    "    def addBooks(self, *args):\n",
    "        self.books.extend(list(args))\n",
    "        \n",
    "    def changeName(self, nm):\n",
    "        self.name=nm\n",
    "        \n",
    "    def printDetails(self):\n",
    "        print('Author Name: {}'.format(self.name))\n",
    "        print('--------')\n",
    "        print('List of Books: ')\n",
    "        for i in self.books:\n",
    "            print(i)\n",
    "\n",
    "auth1 = Author('Humayun Ahmed')\n",
    "auth1.addBooks('Deyal', 'Megher Opor Bari')\n",
    "auth1.printDetails()\n",
    "print('===================')\n",
    "auth2 = Author()\n",
    "print(auth2.name)\n",
    "auth2.changeName('Mario Puzo')\n",
    "auth2.addBooks('The Godfather', 'Omerta', 'The Sicilian')\n",
    "print('===================')\n",
    "auth2.printDetails()\n",
    "print('===================')\n",
    "auth3 = Author('Paolo Coelho', 'The Alchemist', 'The Fifth Mountain')\n",
    "auth3.printDetails()"
   ]
  }
 ],
 "metadata": {
  "kernelspec": {
   "display_name": "Python 3",
   "language": "python",
   "name": "python3"
  },
  "language_info": {
   "codemirror_mode": {
    "name": "ipython",
    "version": 3
   },
   "file_extension": ".py",
   "mimetype": "text/x-python",
   "name": "python",
   "nbconvert_exporter": "python",
   "pygments_lexer": "ipython3",
   "version": "3.8.5"
  }
 },
 "nbformat": 4,
 "nbformat_minor": 4
}
