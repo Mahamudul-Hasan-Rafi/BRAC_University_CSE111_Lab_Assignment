{
 "cells": [
  {
   "cell_type": "markdown",
   "metadata": {},
   "source": [
    "# Task 1\n"
   ]
  },
  {
   "cell_type": "code",
   "execution_count": 48,
   "metadata": {},
   "outputs": [],
   "source": [
    "class Student:\n",
    "    def __init__(self, name='Just a student', dept='nothing'):\n",
    "        self.__name = name\n",
    "        self.__department = dept\n",
    "    def set_department(self, dept):\n",
    "        self.__department = dept\n",
    "    def get_name(self):\n",
    "        return self.__name\n",
    "    def set_name(self,name):\n",
    "        self.__name = name\n",
    "    def __str__(self):\n",
    "        return 'Name: '+self.__name+' Department: '+self.__department"
   ]
  },
  {
   "cell_type": "code",
   "execution_count": 53,
   "metadata": {},
   "outputs": [],
   "source": [
    "class BBA_Student(Student):\n",
    "    def __init__(self, name=None):\n",
    "        if name is None:\n",
    "            name='default'\n",
    "        super().__init__(name,'BBA')\n",
    "        super().__str__()"
   ]
  },
  {
   "cell_type": "code",
   "execution_count": 54,
   "metadata": {},
   "outputs": [
    {
     "name": "stdout",
     "output_type": "stream",
     "text": [
      "Name: default Department: BBA\n",
      "Name: Humpty Dumpty Department: BBA\n",
      "Name: Little Bo Peep Department: BBA\n"
     ]
    }
   ],
   "source": [
    "print(BBA_Student())\n",
    "print(BBA_Student('Humpty Dumpty'))\n",
    "print(BBA_Student('Little Bo Peep'))"
   ]
  },
  {
   "cell_type": "markdown",
   "metadata": {},
   "source": [
    "# Task 2"
   ]
  },
  {
   "cell_type": "code",
   "execution_count": 35,
   "metadata": {},
   "outputs": [],
   "source": [
    "class Vehicle:\n",
    "    def __init__(self):\n",
    "        self.x = 0\n",
    "        self.y = 0\n",
    "    def moveUp(self):\n",
    "        self.y+=1\n",
    "    def moveDown(self):\n",
    "        self.y-=1\n",
    "    def moveRight(self):\n",
    "        self.x+=1\n",
    "    def moveLeft(self):\n",
    "        self.x-=1\n",
    "    def __str__(self):\n",
    "        return '('+str(self.x)+' , '+str(self.y)+')'"
   ]
  },
  {
   "cell_type": "code",
   "execution_count": 42,
   "metadata": {},
   "outputs": [],
   "source": [
    "class Vehicle2010(Vehicle):\n",
    "    def moveUpperRight(self):\n",
    "        self.y+=1\n",
    "        self.x+=1\n",
    "    def moveUpperLeft(self):\n",
    "        self.y+=1\n",
    "        self.x-=1\n",
    "    def moveLowerRight(self):\n",
    "        self.y-=1\n",
    "        self.x+=1\n",
    "    def moveLowerLeft(self):\n",
    "        self.y-=1\n",
    "        self.x-=1\n",
    "    def equals(self,obj):\n",
    "        if(self.x==obj.x and self.y==obj.y):\n",
    "            return True\n",
    "        else:\n",
    "            return False"
   ]
  },
  {
   "cell_type": "code",
   "execution_count": 43,
   "metadata": {},
   "outputs": [
    {
     "name": "stdout",
     "output_type": "stream",
     "text": [
      "Part 1\n",
      "------\n",
      "(0 , 0)\n",
      "(0 , 1)\n",
      "(-1 , 1)\n",
      "(-1 , 0)\n",
      "(0 , 0)\n",
      "------\n",
      "Part 2\n",
      "------\n",
      "(0 , 0)\n",
      "(-1 , -1)\n",
      "False\n",
      "True\n"
     ]
    }
   ],
   "source": [
    "print('Part 1')\n",
    "print('------')\n",
    "car = Vehicle()\n",
    "print(car)\n",
    "car.moveUp()\n",
    "print(car)\n",
    "car.moveLeft()\n",
    "print(car)\n",
    "car.moveDown()\n",
    "print(car)\n",
    "car.moveRight()\n",
    "print(car)\n",
    "print('------')\n",
    "print('Part 2')\n",
    "print('------')\n",
    "car1 = Vehicle2010()\n",
    "print(car1)\n",
    "car1.moveLowerLeft()\n",
    "print(car1)\n",
    "car2 = Vehicle2010()\n",
    "car2.moveLeft()\n",
    "print(car1.equals(car2))\n",
    "car2.moveDown()\n",
    "print(car1.equals(car2))"
   ]
  },
  {
   "cell_type": "markdown",
   "metadata": {},
   "source": [
    "# Task 3"
   ]
  },
  {
   "cell_type": "code",
   "execution_count": 92,
   "metadata": {},
   "outputs": [],
   "source": [
    "class Tournament:\n",
    "    def __init__(self,name='Default'):\n",
    "        self.__name = name\n",
    "    def set_name(self,name):\n",
    "        self.__name = name\n",
    "    def get_name(self):\n",
    "        return self.__name"
   ]
  },
  {
   "cell_type": "code",
   "execution_count": 103,
   "metadata": {},
   "outputs": [],
   "source": [
    "class Cricket_Tournament(Tournament):\n",
    "    def __init__(self, name=None, n_teams=None, ctype=None):\n",
    "        if name is None:\n",
    "            name='Default'\n",
    "            \n",
    "        super().__init__(name)\n",
    "        \n",
    "        if n_teams is None:\n",
    "            n_teams=0\n",
    "        if ctype is None:\n",
    "            ctype='No type'\n",
    "        \n",
    "        self.n_teams=n_teams\n",
    "        self.ctype=ctype\n",
    "        \n",
    "    def detail(self):\n",
    "        return f'Cricket Tournament Name: {self.get_name()} \\nNumber of teams: {self.n_teams} \\nType: {self.ctype}'"
   ]
  },
  {
   "cell_type": "code",
   "execution_count": 111,
   "metadata": {},
   "outputs": [],
   "source": [
    "class Tennis_Tournament(Tournament):\n",
    "    def __init__(self, name=None, n_players=None):\n",
    "        if name is not None:\n",
    "            super().set_name(name)\n",
    "        \n",
    "        if n_players is None:\n",
    "            n_players=0\n",
    "        \n",
    "        self.n_players=n_players\n",
    "    \n",
    "    def detail(self):\n",
    "        return f'Tennis Tournament Name: {self.get_name()} \\nNumber of Players: {self.n_players}'"
   ]
  },
  {
   "cell_type": "code",
   "execution_count": 112,
   "metadata": {},
   "outputs": [
    {
     "name": "stdout",
     "output_type": "stream",
     "text": [
      "Cricket Tournament Name: Default \n",
      "Number of teams: 0 \n",
      "Type: No type\n",
      "-----------------------\n",
      "Cricket Tournament Name: IPL \n",
      "Number of teams: 10 \n",
      "Type: t20\n",
      "-----------------------\n",
      "Tennis Tournament Name: Roland Garros \n",
      "Number of Players: 128\n"
     ]
    }
   ],
   "source": [
    "ct1 = Cricket_Tournament()\n",
    "print(ct1.detail())\n",
    "print(\"-----------------------\")\n",
    "ct2 = Cricket_Tournament(\"IPL\",10,\"t20\")\n",
    "print(ct2.detail())\n",
    "print(\"-----------------------\")\n",
    "tt = Tennis_Tournament(\"Roland Garros\",128)\n",
    "print(tt.detail())"
   ]
  },
  {
   "cell_type": "markdown",
   "metadata": {},
   "source": [
    "# Task 4"
   ]
  },
  {
   "cell_type": "code",
   "execution_count": 129,
   "metadata": {},
   "outputs": [],
   "source": [
    "class Product:\n",
    "    def __init__(self,id, title, price):\n",
    "        self.__id = id\n",
    "        self. __title = title\n",
    "        self. __price = price\n",
    "    def get_id_title_price(self):\n",
    "        return \"ID: \"+str(self.__id)+\" Title:\"+self.__title+\"Price: \"+str(self.__price)"
   ]
  },
  {
   "cell_type": "code",
   "execution_count": 130,
   "metadata": {},
   "outputs": [],
   "source": [
    "class Book(Product):\n",
    "    def __init__(self, id_, title, price, isbn, publisher):\n",
    "        super().__init__(id_,\" \"+title+\" \",price)\n",
    "        self.isbn=isbn\n",
    "        self.publisher=publisher\n",
    "        self.details=super().get_id_title_price()\n",
    "    \n",
    "    def printDetail(self):\n",
    "        return self.details+\"\\n\"+\"ISBN: \"+self.isbn+\" Publisher: \"+self.publisher"
   ]
  },
  {
   "cell_type": "code",
   "execution_count": 131,
   "metadata": {},
   "outputs": [],
   "source": [
    "class CD(Product):\n",
    "    def __init__(self, id_, title, price, brand, duration, genre):\n",
    "        super().__init__(id_,\" \"+title+\" \",price)\n",
    "        self.brand=brand\n",
    "        self.duration=duration\n",
    "        self.genre=genre\n",
    "        self.details=super().get_id_title_price()\n",
    "    \n",
    "    def printDetail(self):\n",
    "        return self.details+\"\\n\"+\"Brand: \"+self.brand+\" Duration: \"+str(self.duration)+\"minutes\\n\"+\"Genre: \"+self.genre"
   ]
  },
  {
   "cell_type": "code",
   "execution_count": 132,
   "metadata": {},
   "outputs": [
    {
     "name": "stdout",
     "output_type": "stream",
     "text": [
      "ID: 1 Title: The Alchemist Price: 500\n",
      "ISBN: 97806 Publisher: HarperCollins\n",
      "-----------------------\n",
      "ID: 2 Title: Shotto Price: 300\n",
      "Brand: Warfaze Duration: 50minutes\n",
      "Genre: Hard Rock\n"
     ]
    }
   ],
   "source": [
    "book = Book(1,\"The Alchemist\",500,\"97806\",\"HarperCollins\")\n",
    "print(book.printDetail())\n",
    "print(\"-----------------------\")\n",
    "cd = CD(2,\"Shotto\",300,\"Warfaze\",50,\"Hard Rock\")\n",
    "print(cd.printDetail())"
   ]
  },
  {
   "cell_type": "markdown",
   "metadata": {},
   "source": [
    "# Task 5"
   ]
  },
  {
   "cell_type": "code",
   "execution_count": 1,
   "metadata": {},
   "outputs": [],
   "source": [
    "class Animal:\n",
    "    def __init__(self,sound):\n",
    "        self.__sound = sound\n",
    "    def makeSound(self):\n",
    "        return self.__sound\n",
    "\n",
    "class Printer:\n",
    "    def printSound(self, a):\n",
    "        print(a.makeSound())"
   ]
  },
  {
   "cell_type": "code",
   "execution_count": 4,
   "metadata": {},
   "outputs": [],
   "source": [
    "class Dog(Animal):\n",
    "    def __init__(self, sound):\n",
    "        super().__init__(sound)\n",
    "\n",
    "class Cat(Animal):\n",
    "    def __init__(self,sound):\n",
    "        super().__init__(sound)"
   ]
  },
  {
   "cell_type": "code",
   "execution_count": 5,
   "metadata": {},
   "outputs": [
    {
     "name": "stdout",
     "output_type": "stream",
     "text": [
      "Animal does not make sound\n",
      "meow\n",
      "bark\n"
     ]
    }
   ],
   "source": [
    "d1 = Dog('bark')\n",
    "c1 = Cat('meow')\n",
    "a1 = Animal('Animal does not make sound')\n",
    "pr = Printer()\n",
    "pr.printSound(a1)\n",
    "pr.printSound(c1)\n",
    "pr.printSound(d1)"
   ]
  },
  {
   "cell_type": "markdown",
   "metadata": {},
   "source": [
    "# Task 6"
   ]
  },
  {
   "cell_type": "code",
   "execution_count": 31,
   "metadata": {},
   "outputs": [],
   "source": [
    "class Shape:\n",
    "    def __init__(self, name='Default', height=0, base=0):\n",
    "        print('Name:  ',name)\n",
    "        self.area = 0\n",
    "        self.name = name\n",
    "        self.height = height\n",
    "        self.base = base\n",
    "    def get_height_base(self):\n",
    "        return \"Height: \"+str(self.height)+\",Base: \"+str(self.base)"
   ]
  },
  {
   "cell_type": "code",
   "execution_count": 45,
   "metadata": {},
   "outputs": [],
   "source": [
    "class triangle(Shape):\n",
    "    def __init__(self, shape=None, height=None, base=None):\n",
    "        if shape is None:\n",
    "            super().__init__()\n",
    "        else:\n",
    "            super().__init__(shape,height,base)\n",
    "        \n",
    "    def calcArea(self): \n",
    "        self.area=0.5*self.height*self.base\n",
    "        \n",
    "    def printDetail(self):\n",
    "        return \"Shape name: \"+self.name+\"\\n\"+\"Height: \"+str(self.height)+\", Base: \"+str(self.base)+\"\\n\"+\"Area: \"+str(self.area)"
   ]
  },
  {
   "cell_type": "code",
   "execution_count": 41,
   "metadata": {},
   "outputs": [],
   "source": [
    "class trapezoid(Shape):\n",
    "    def __init__(self, shape, height, base, side_A):\n",
    "        super().__init__(shape,height,base)\n",
    "        self.side_A=side_A\n",
    "        \n",
    "    def calcArea(self):\n",
    "        self.area=0.5*(self.base+self.side_A)*self.height\n",
    "        \n",
    "    def printDetail(self):\n",
    "        return \"Shape name: \"+self.name+\"\\n\"+\"Height: \"+str(self.height)+\", Base: \"+str(self.base)+\", Side_A: \"+str(self.side_A)+\"\\n\"+\"Area: \"+str(self.area)\n",
    "        "
   ]
  },
  {
   "cell_type": "code",
   "execution_count": 47,
   "metadata": {},
   "outputs": [
    {
     "name": "stdout",
     "output_type": "stream",
     "text": [
      "Name:   Default\n",
      "Shape name: Default\n",
      "Height: 0, Base: 0\n",
      "Area: 0.0\n",
      "--------------------------\n",
      "Name:   Triangle\n",
      "Shape name: Triangle\n",
      "Height: 10, Base: 5\n",
      "Area: 25.0\n",
      "---------------------------\n",
      "Name:   Trapezoid\n",
      "Shape name: Trapezoid\n",
      "Height: 10, Base: 6\n",
      "Area: 50.0\n"
     ]
    }
   ],
   "source": [
    "tri_default = triangle()\n",
    "tri_default.calcArea()\n",
    "print(tri_default.printDetail())\n",
    "print('--------------------------')\n",
    "tri = triangle('Triangle', 10, 5)\n",
    "tri.calcArea()\n",
    "print(tri.printDetail())\n",
    "print('---------------------------')\n",
    "trap = trapezoid('Trapezoid', 10, 6, 4)\n",
    "trap.calcArea()\n",
    "print(trap.printDetail())"
   ]
  },
  {
   "cell_type": "markdown",
   "metadata": {},
   "source": [
    "# Task 7"
   ]
  },
  {
   "cell_type": "code",
   "execution_count": 6,
   "metadata": {},
   "outputs": [],
   "source": [
    "class Football:\n",
    "    def __init__(self, team_name, name, role):\n",
    "        self.__team = team_name\n",
    "        self.__name = name\n",
    "        self.role = role\n",
    "        self.earning_per_match = 0\n",
    "    def get_name_team(self):\n",
    "        return 'Name: '+self.__name+', Team Name: ' +self.__team"
   ]
  },
  {
   "cell_type": "code",
   "execution_count": 22,
   "metadata": {},
   "outputs": [],
   "source": [
    "class Player(Football):\n",
    "    def __init__(self, team_name, name, role, total_goal, total_match):\n",
    "        super().__init__(team_name, name, role)\n",
    "        self.total_goal=total_goal\n",
    "        self.total_match=total_match\n",
    "        self.match_earning=(total_goal*1000)+(total_match*10)\n",
    "        \n",
    "    def calculate_ratio(self):\n",
    "        self.goal_ratio=self.total_goal/self.total_match\n",
    "        \n",
    "    def print_details(self):\n",
    "        print(super().get_name_team()+\"\\n\"+\"Team Role: \"+self.role+\"\\n\"+\"Total Goal: \"+str(self.total_goal)+\", Total Played: \"+str(self.total_match)+\"\\n\"+\"Goal Ratio: \"+str(self.goal_ratio)+\"\\n\"+\"Match Earning: \"+str(self.match_earning)+\"K\")\n",
    "    "
   ]
  },
  {
   "cell_type": "code",
   "execution_count": 23,
   "metadata": {},
   "outputs": [],
   "source": [
    "class Manager(Football):\n",
    "    def __init__(self, team_name, name, role, match_win):\n",
    "        super().__init__(team_name,name,role)\n",
    "        self.match_win=match_win\n",
    "        self.match_earning=match_win*1000\n",
    "        \n",
    "    def print_details(self):\n",
    "        print(super().get_name_team()+\"\\n\"+\"Team Role: \"+self.role+\"\\n\"+\"Total Win: \"+str(self.match_win)+\"\\n\"+\"Match Earning: \"+str(self.match_earning)+\"K\")"
   ]
  },
  {
   "cell_type": "code",
   "execution_count": 25,
   "metadata": {},
   "outputs": [
    {
     "name": "stdout",
     "output_type": "stream",
     "text": [
      "Name: Ronaldo, Team Name: Juventus\n",
      "Team Role: Striker\n",
      "Total Goal: 25, Total Played: 32\n",
      "Goal Ratio: 0.78125\n",
      "Match Earning: 25320K\n",
      "------------------------------------------\n",
      "Name: Zidane, Team Name: Real Madrid\n",
      "Team Role: Manager\n",
      "Total Win: 25\n",
      "Match Earning: 25000K\n"
     ]
    }
   ],
   "source": [
    "player_one = Player('Juventus', 'Ronaldo', 'Striker', 25, 32)\n",
    "player_one.calculate_ratio()\n",
    "player_one.print_details()\n",
    "print('------------------------------------------')\n",
    "manager_one = Manager('Real Madrid', 'Zidane', 'Manager', 25)\n",
    "manager_one.print_details()"
   ]
  }
 ],
 "metadata": {
  "kernelspec": {
   "display_name": "Python 3",
   "language": "python",
   "name": "python3"
  },
  "language_info": {
   "codemirror_mode": {
    "name": "ipython",
    "version": 3
   },
   "file_extension": ".py",
   "mimetype": "text/x-python",
   "name": "python",
   "nbconvert_exporter": "python",
   "pygments_lexer": "ipython3",
   "version": "3.8.5"
  }
 },
 "nbformat": 4,
 "nbformat_minor": 4
}
