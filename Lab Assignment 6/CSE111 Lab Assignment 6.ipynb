{
 "cells": [
  {
   "cell_type": "markdown",
   "metadata": {},
   "source": [
    "# Task 1"
   ]
  },
  {
   "cell_type": "code",
   "execution_count": 5,
   "metadata": {},
   "outputs": [],
   "source": [
    "class Student:\n",
    "    ID=0\n",
    "    def __init__(self, name, department, age, cgpa):\n",
    "        Student.ID+=1\n",
    "        self.name=name\n",
    "        self.department=department\n",
    "        self.age=age\n",
    "        self.cgpa=cgpa\n",
    "    \n",
    "    def get_details(self):\n",
    "        print('ID: ',Student.ID)\n",
    "        print('Name: ',self.name)\n",
    "        print('Department: ',self.department)\n",
    "        print('Age: ',self.age)\n",
    "        print('CGPA: ',self.cgpa)\n",
    "        \n",
    "    @classmethod\n",
    "    def from_String(cls, info):\n",
    "        name, dept, age, cgpa = info.split('-')\n",
    "        obj=cls(name,dept,age,cgpa)\n",
    "        return obj"
   ]
  },
  {
   "cell_type": "code",
   "execution_count": 6,
   "metadata": {},
   "outputs": [
    {
     "name": "stdout",
     "output_type": "stream",
     "text": [
      "ID:  1\n",
      "Name:  Samin\n",
      "Department:  CSE\n",
      "Age:  21\n",
      "CGPA:  3.91\n",
      "-----------------------\n",
      "ID:  2\n",
      "Name:  Fahim\n",
      "Department:  ECE\n",
      "Age:  21\n",
      "CGPA:  3.85\n",
      "-----------------------\n",
      "ID:  3\n",
      "Name:  Tahura\n",
      "Department:  EEE\n",
      "Age:  22\n",
      "CGPA:  3.01\n",
      "-----------------------\n",
      "ID:  4\n",
      "Name:  Sumaiya\n",
      "Department:  BBA\n",
      "Age:  23\n",
      "CGPA:  3.96\n"
     ]
    }
   ],
   "source": [
    "s1 = Student(\"Samin\", \"CSE\", 21, 3.91)\n",
    "s1.get_details()\n",
    "print(\"-----------------------\")\n",
    "s2 = Student(\"Fahim\", \"ECE\", 21, 3.85)\n",
    "s2.get_details()\n",
    "print(\"-----------------------\")\n",
    "s3 = Student(\"Tahura\", \"EEE\", 22, 3.01)\n",
    "s3.get_details()\n",
    "print(\"-----------------------\")\n",
    "s4 = Student.from_String(\"Sumaiya-BBA-23-3.96\")\n",
    "s4.get_details()"
   ]
  },
  {
   "cell_type": "markdown",
   "metadata": {},
   "source": [
    "# Task 2"
   ]
  },
  {
   "cell_type": "code",
   "execution_count": 10,
   "metadata": {},
   "outputs": [],
   "source": [
    "class Assassin:\n",
    "    total_assassins=0\n",
    "    \n",
    "    def __init__(self, name, success_rate):\n",
    "        Assassin.total_assassins+=1\n",
    "        self.name=name\n",
    "        self.success_rate=success_rate\n",
    "    \n",
    "    @classmethod\n",
    "    def failureRate(cls, name, failure_rate):\n",
    "        obj=cls(name, 100-failure_rate)\n",
    "        return obj\n",
    "    \n",
    "    @classmethod\n",
    "    def failurePercentage(cls, name, failure_rate):\n",
    "        obj=cls(name, 100-failure_rate)\n",
    "        return obj\n",
    "    \n",
    "    def printDetails(self):\n",
    "        print('Name: ',self.name)\n",
    "        print(f'Success rate: {self.success_rate}%')\n",
    "        print(f'Total number of Assassin: {Assassin.total_assassins}')"
   ]
  },
  {
   "cell_type": "code",
   "execution_count": 11,
   "metadata": {},
   "outputs": [
    {
     "name": "stdout",
     "output_type": "stream",
     "text": [
      "Name:  John Wick\n",
      "Success rate: 100%\n",
      "Total number of Assassin: 1\n",
      "================================\n",
      "Name:  Nagisa\n",
      "Success rate: 80%\n",
      "Total number of Assassin: 2\n",
      "================================\n",
      "Name:  Akabane\n",
      "Success rate: 90%\n",
      "Total number of Assassin: 3\n"
     ]
    }
   ],
   "source": [
    "john_wick = Assassin('John Wick', 100)\n",
    "john_wick.printDetails()\n",
    "print('================================')\n",
    "nagisa = Assassin.failureRate(\"Nagisa\", 20)\n",
    "nagisa.printDetails()\n",
    "print('================================')\n",
    "akabane = Assassin.failurePercentage('Akabane', 10)\n",
    "akabane.printDetails()"
   ]
  },
  {
   "cell_type": "markdown",
   "metadata": {},
   "source": [
    "# Task 3"
   ]
  },
  {
   "cell_type": "code",
   "execution_count": 16,
   "metadata": {},
   "outputs": [],
   "source": [
    "class Passenger:\n",
    "    count=0\n",
    "    def __init__(self, name):\n",
    "        Passenger.count+=1\n",
    "        self.name=name\n",
    "    \n",
    "    def set_bag_weight(self, weight):\n",
    "        self.bag_weight=weight\n",
    "    \n",
    "    def printDetail(self):\n",
    "        if self.bag_weight>=21 and self.bag_weight<=50:\n",
    "            self.fare=450+100\n",
    "        elif self.bag_weight>50:\n",
    "            self.fare=450+50\n",
    "        else:\n",
    "            self.fare=450\n",
    "        \n",
    "        print('Name: ',self.name)\n",
    "        print('Bus Fare: ',self.fare)"
   ]
  },
  {
   "cell_type": "code",
   "execution_count": 17,
   "metadata": {},
   "outputs": [
    {
     "name": "stdout",
     "output_type": "stream",
     "text": [
      "Total Passenger: 0\n",
      "=========================\n",
      "Name:  Jack\n",
      "Bus Fare:  500\n",
      "=========================\n",
      "Name:  Carol\n",
      "Bus Fare:  450\n",
      "=========================\n",
      "Name:  Mike\n",
      "Bus Fare:  550\n",
      "=========================\n",
      "Total Passenger: 3\n"
     ]
    }
   ],
   "source": [
    "print('Total Passenger:', Passenger.count)\n",
    "p1 = Passenger('Jack')\n",
    "p1.set_bag_weight(90)\n",
    "p2 = Passenger('Carol')\n",
    "p2.set_bag_weight(10)\n",
    "p3 = Passenger('Mike')\n",
    "p3.set_bag_weight(25)\n",
    "print(\"=========================\")\n",
    "p1.printDetail()\n",
    "print(\"=========================\")\n",
    "p2.printDetail()\n",
    "print(\"=========================\")\n",
    "p3.printDetail()\n",
    "print(\"=========================\")\n",
    "print('Total Passenger:', Passenger.count)"
   ]
  },
  {
   "cell_type": "markdown",
   "metadata": {},
   "source": [
    "# Task 4"
   ]
  },
  {
   "cell_type": "code",
   "execution_count": 33,
   "metadata": {},
   "outputs": [],
   "source": [
    "class Travel:\n",
    "    count=0\n",
    "    \n",
    "    def __init__(self, src, dest):\n",
    "        self.src=src\n",
    "        self.dest=dest\n",
    "        self.time=\"1:00\"\n",
    "        Travel.count+=1\n",
    "        \n",
    "    def set_time(self, time):\n",
    "        self.time=str(time)+':00'\n",
    "        \n",
    "    def set_source(self, src):\n",
    "        self.src=src\n",
    "        \n",
    "    def set_destination(self, dest):\n",
    "        self.dest=dest\n",
    "        \n",
    "    def display_travel_info(self):\n",
    "        return f'Source: {self.src}\\nDestination:{self.dest}\\nFlight Time:{self.time}'"
   ]
  },
  {
   "cell_type": "code",
   "execution_count": 34,
   "metadata": {},
   "outputs": [
    {
     "name": "stdout",
     "output_type": "stream",
     "text": [
      "No. of Traveller = 0\n",
      "=======================\n",
      "Source: Dhaka\n",
      "Destination:India\n",
      "Flight Time:1:00\n",
      "=======================\n",
      "Source: Kuala Lampur\n",
      "Destination:Dhaka\n",
      "Flight Time:23:00\n",
      "=======================\n",
      "Source: Dhaka\n",
      "Destination:Germany\n",
      "Flight Time:15:00\n",
      "=======================\n",
      "Source: Malaysia\n",
      "Destination:Canada\n",
      "Flight Time:9:00\n",
      "=======================\n",
      "No. of Traveller = 4\n"
     ]
    }
   ],
   "source": [
    "print('No. of Traveller =', Travel.count)\n",
    "print(\"=======================\")\n",
    "t1 = Travel(\"Dhaka\",\"India\")\n",
    "print(t1.display_travel_info())\n",
    "print(\"=======================\")\n",
    "t2 = Travel(\"Kuala Lampur\",\"Dhaka\")\n",
    "t2.set_time(23)\n",
    "print(t2.display_travel_info())\n",
    "print(\"=======================\")\n",
    "t3 = Travel(\"Dhaka\",\"New_Zealand\")\n",
    "t3.set_time(15)\n",
    "t3.set_destination(\"Germany\")\n",
    "print(t3.display_travel_info())\n",
    "print(\"=======================\")\n",
    "t4 = Travel(\"Dhaka\",\"India\")\n",
    "t4.set_time(9)\n",
    "t4.set_source(\"Malaysia\")\n",
    "t4.set_destination(\"Canada\")\n",
    "print(t4.display_travel_info())\n",
    "print(\"=======================\")\n",
    "print(\"No. of Traveller =\", Travel.count)"
   ]
  },
  {
   "cell_type": "markdown",
   "metadata": {},
   "source": [
    "# Task 5"
   ]
  },
  {
   "cell_type": "code",
   "execution_count": 35,
   "metadata": {},
   "outputs": [],
   "source": [
    "class Employee:\n",
    "    def __init__(self, name, workingPeriod):\n",
    "        self.name=name\n",
    "        self.workingPeriod=workingPeriod\n",
    "    \n",
    "    @classmethod\n",
    "    def employeeByJoiningYear(cls, name, year):\n",
    "        obj=cls(name,2021-year)\n",
    "        return obj\n",
    "    \n",
    "    @staticmethod\n",
    "    def experienceCheck(wp, gender):\n",
    "        if wp<3:\n",
    "            if gender=='male':\n",
    "                return 'He is not experienced'\n",
    "            else:\n",
    "                return 'She is not experienced'\n",
    "        else:\n",
    "            if gender=='male':\n",
    "                return 'He is experienced'\n",
    "            else:\n",
    "                return 'She is experienced'"
   ]
  },
  {
   "cell_type": "code",
   "execution_count": 36,
   "metadata": {},
   "outputs": [
    {
     "name": "stdout",
     "output_type": "stream",
     "text": [
      "3\n",
      "5\n",
      "Dororo\n",
      "Harry\n",
      "He is not experienced\n",
      "She is experienced\n"
     ]
    }
   ],
   "source": [
    "employee1 = Employee('Dororo', 3)\n",
    "employee2 = Employee.employeeByJoiningYear('Harry', 2016)\n",
    "print(employee1.workingPeriod)\n",
    "print(employee2.workingPeriod)\n",
    "print(employee1.name)\n",
    "print(employee2.name)\n",
    "print(Employee.experienceCheck(2, \"male\"))\n",
    "print(Employee.experienceCheck(3, \"female\"))"
   ]
  },
  {
   "cell_type": "markdown",
   "metadata": {},
   "source": [
    "# Task 6"
   ]
  },
  {
   "cell_type": "code",
   "execution_count": 39,
   "metadata": {},
   "outputs": [],
   "source": [
    "class Laptop:\n",
    "    laptopCount=0\n",
    "    \n",
    "    def __init__(self, name, count):\n",
    "        self.name=name\n",
    "        self.count=count\n",
    "        Laptop.laptopCount+=count\n",
    "        \n",
    "    @staticmethod\n",
    "    def advantage():\n",
    "        print('Laptops are portable')\n",
    "    \n",
    "    @classmethod\n",
    "    def resetCount(cls):\n",
    "        cls.laptopCount=0\n",
    "    "
   ]
  },
  {
   "cell_type": "code",
   "execution_count": 40,
   "metadata": {},
   "outputs": [
    {
     "name": "stdout",
     "output_type": "stream",
     "text": [
      "Lenovo 5\n",
      "Dell 7\n",
      "Total number of Laptops 12\n",
      "Laptops are portable\n",
      "Total number of Laptops 0\n"
     ]
    }
   ],
   "source": [
    "lenovo = Laptop(\"Lenovo\", 5);\n",
    "dell = Laptop(\"Dell\", 7);\n",
    "print(lenovo.name, lenovo.count)\n",
    "print(dell.name, dell.count)\n",
    "print(\"Total number of Laptops\", Laptop.laptopCount)\n",
    "Laptop.advantage()\n",
    "Laptop.resetCount()\n",
    "print(\"Total number of Laptops\", Laptop.laptopCount)"
   ]
  },
  {
   "cell_type": "markdown",
   "metadata": {},
   "source": [
    "# Task 7"
   ]
  },
  {
   "cell_type": "code",
   "execution_count": 42,
   "metadata": {},
   "outputs": [],
   "source": [
    "class Cat:\n",
    "    Number_of_cats=0\n",
    "    def __init__(self, color, activity):\n",
    "        self.color=color\n",
    "        self.activity=activity\n",
    "        Cat.Number_of_cats+=1\n",
    "    \n",
    "    @classmethod\n",
    "    def no_parameter(cls):\n",
    "        obj=cls('White','sitting')\n",
    "        return obj\n",
    "    \n",
    "    @classmethod\n",
    "    def first_parameter(cls,color):\n",
    "        obj=cls(color,'sitting')\n",
    "        return obj\n",
    "    \n",
    "    @classmethod\n",
    "    def second_parameter(cls,activity):\n",
    "        obj=cls('Grey',activity)\n",
    "        return obj\n",
    "    \n",
    "    def changeColor(self, color):\n",
    "        self.color=color\n",
    "        \n",
    "    def printCat(self):\n",
    "        print(f'{self.color} cat is {self.activity}')"
   ]
  },
  {
   "cell_type": "code",
   "execution_count": 43,
   "metadata": {},
   "outputs": [
    {
     "name": "stdout",
     "output_type": "stream",
     "text": [
      "Total number of cats: 0\n",
      "=======================\n",
      "White cat is sitting\n",
      "Black cat is sitting\n",
      "Brown cat is jumping\n",
      "Red cat is purring\n",
      "Grey cat is playing\n",
      "Blue cat is sitting\n",
      "Purple cat is jumping\n",
      "=======================\n",
      "Total number of cats: 5\n"
     ]
    }
   ],
   "source": [
    "print(\"Total number of cats:\", Cat.Number_of_cats)\n",
    "c1 = Cat.no_parameter()\n",
    "c2 = Cat.first_parameter(\"Black\")\n",
    "c3 = Cat(\"Brown\", \"jumping\")\n",
    "c4 = Cat(\"Red\", \"purring\")\n",
    "c5 = Cat.second_parameter(\"playing\")\n",
    "print(\"=======================\")\n",
    "c1.printCat()\n",
    "c2.printCat()\n",
    "c3.printCat()\n",
    "c4.printCat()\n",
    "c5.printCat()\n",
    "c1.changeColor(\"Blue\")\n",
    "c3.changeColor(\"Purple\")\n",
    "c1.printCat()\n",
    "c3.printCat()\n",
    "print(\"=======================\")\n",
    "print(\"Total number of cats:\", Cat.Number_of_cats)"
   ]
  },
  {
   "cell_type": "markdown",
   "metadata": {},
   "source": [
    "# Task 8"
   ]
  },
  {
   "cell_type": "code",
   "execution_count": 47,
   "metadata": {},
   "outputs": [],
   "source": [
    "import math\n",
    "\n",
    "class Cylinder:\n",
    "    radius=5\n",
    "    height=5\n",
    "    def __init__(self, r, h):\n",
    "        print(f'Default radius={Cylinder.radius} and height={Cylinder.height}.')\n",
    "        Cylinder.radius=r\n",
    "        Cylinder.height=h\n",
    "        print(f'Updated: radius={Cylinder.radius} and height={Cylinder.height}.')\n",
    "    \n",
    "    @classmethod\n",
    "    def swap(cls, h, r):\n",
    "        obj=cls(r,h)\n",
    "        return obj\n",
    "    \n",
    "    @classmethod\n",
    "    def changeFormat(cls, info):\n",
    "        r,h=info.split('-')\n",
    "        obj=cls(float(r),float(h))\n",
    "        return obj\n",
    "    \n",
    "    @staticmethod\n",
    "    def area(r,h):\n",
    "        print('Area: ',(2*math.pi*r*r)+(2*math.pi*r*h))\n",
    "    \n",
    "    @staticmethod\n",
    "    def volume(r,h):\n",
    "        print('Volume: ',math.pi*r*r*h)"
   ]
  },
  {
   "cell_type": "code",
   "execution_count": 48,
   "metadata": {},
   "outputs": [
    {
     "name": "stdout",
     "output_type": "stream",
     "text": [
      "Default radius=5 and height=5.\n",
      "Updated: radius=0 and height=0.\n",
      "Area:  0.0\n",
      "Volume:  0.0\n",
      "===============================\n",
      "Default radius=0 and height=0.\n",
      "Updated: radius=3 and height=8.\n",
      "Area:  207.34511513692635\n",
      "Volume:  226.1946710584651\n",
      "===============================\n",
      "Default radius=3 and height=8.\n",
      "Updated: radius=7.0 and height=13.0.\n",
      "Area:  879.645943005142\n",
      "Volume:  2001.1945203366981\n",
      "===============================\n",
      "Default radius=7.0 and height=13.0.\n",
      "Updated: radius=0.3 and height=5.56.\n",
      "Area:  11.045839770021713\n",
      "===============================\n",
      "Default radius=0.3 and height=5.56.\n",
      "Updated: radius=3 and height=5.\n",
      "Volume:  141.3716694115407\n"
     ]
    }
   ],
   "source": [
    "c1 = Cylinder(0,0)\n",
    "Cylinder.area(c1.radius,c1.height)\n",
    "Cylinder.volume(c1.radius,c1.height)\n",
    "print(\"===============================\")\n",
    "c2 = Cylinder.swap(8,3)\n",
    "c2.area(c2.radius,c2.height)\n",
    "c2.volume(c2.radius,c2.height)\n",
    "print(\"===============================\")\n",
    "c3 = Cylinder.changeFormat(\"7-13\")\n",
    "c3.area(c3.radius,c3.height)\n",
    "c3.volume(c3.radius,c3.height)\n",
    "print(\"===============================\")\n",
    "Cylinder(0.3,5.56).area(Cylinder.radius,Cylinder.height)\n",
    "print(\"===============================\")\n",
    "Cylinder(3,5).volume(Cylinder.radius,Cylinder.height)"
   ]
  },
  {
   "cell_type": "markdown",
   "metadata": {},
   "source": [
    "# Task 9"
   ]
  },
  {
   "cell_type": "code",
   "execution_count": 62,
   "metadata": {},
   "outputs": [],
   "source": [
    "class Student:\n",
    "    total_students=0\n",
    "    brac_students=0\n",
    "    other_students=0\n",
    "    \n",
    "    def __init__(self, name, dept, inst='BRAC University'):\n",
    "        Student.total_students+=1\n",
    "        self.name=name\n",
    "        self.dept=dept\n",
    "        self.inst=inst\n",
    "        \n",
    "        if self.inst=='BRAC University':\n",
    "            Student.brac_students+=1\n",
    "        else:\n",
    "            Student.other_students+=1\n",
    "    \n",
    "    @classmethod\n",
    "    def printDetails(self):\n",
    "        print(f'Total Student(s): {Student.total_students}')\n",
    "        print(f'BRAC University Student(s): {Student.brac_students}')\n",
    "        print(f'Other Institution Student(s): {Student.other_students}')\n",
    "        \n",
    "    @classmethod\n",
    "    def createStudent(cls, name, dept, inst='BRAC University'):\n",
    "        obj=cls(name, dept, inst)\n",
    "        return obj\n",
    "    \n",
    "    def individualDetail(self):\n",
    "        print(f'Name: {self.name}')\n",
    "        print(f'Department: {self.dept}')\n",
    "        print(f'Institution: {self.inst}')"
   ]
  },
  {
   "cell_type": "code",
   "execution_count": 63,
   "metadata": {},
   "outputs": [
    {
     "name": "stdout",
     "output_type": "stream",
     "text": [
      "Total Student(s): 0\n",
      "BRAC University Student(s): 0\n",
      "Other Institution Student(s): 0\n",
      "#########################\n",
      "Name: Mikasa Ackerman\n",
      "Department: CSE\n",
      "Institution: BRAC University\n",
      "------------------------------------------\n",
      "Total Student(s): 1\n",
      "BRAC University Student(s): 1\n",
      "Other Institution Student(s): 0\n",
      "========================\n",
      "Name: Harry Potter\n",
      "Department: Defence Against DarkArts\n",
      "Institution: Hogwarts School\n",
      "-------------------------------------------\n",
      "Total Student(s): 2\n",
      "BRAC University Student(s): 1\n",
      "Other Institution Student(s): 1\n",
      "=========================\n",
      "Name: Levi Ackerman\n",
      "Department: CSE\n",
      "Institution: BRAC University\n",
      "--------------------------------------------\n",
      "Total Student(s): 3\n",
      "BRAC University Student(s): 2\n",
      "Other Institution Student(s): 1\n"
     ]
    }
   ],
   "source": [
    "Student.printDetails()\n",
    "print('#########################')\n",
    "mikasa = Student('Mikasa Ackerman', \"CSE\")\n",
    "mikasa.individualDetail()\n",
    "print('------------------------------------------')\n",
    "Student.printDetails()\n",
    "print('========================')\n",
    "harry = Student.createStudent('Harry Potter', \"Defence Against DarkArts\", \"Hogwarts School\")\n",
    "harry.individualDetail()\n",
    "print('-------------------------------------------')\n",
    "Student.printDetails()\n",
    "print('=========================')\n",
    "levi = Student.createStudent(\"Levi Ackerman\", \"CSE\")\n",
    "levi.individualDetail()\n",
    "print('--------------------------------------------')\n",
    "Student.printDetails()"
   ]
  },
  {
   "cell_type": "markdown",
   "metadata": {},
   "source": [
    "# Task 10"
   ]
  },
  {
   "cell_type": "code",
   "execution_count": 49,
   "metadata": {},
   "outputs": [],
   "source": [
    "class SultansDine:\n",
    "    \n",
    "    branch_information=[]\n",
    "    def __init__(self,branch_name):\n",
    "        self.branch_name=branch_name\n",
    "    \n",
    "    def sellQuantity(self,quantity):\n",
    "        if quantity<10:\n",
    "            self.branch_sell=quantity*300\n",
    "        elif quantity<20:\n",
    "            self.branch_sell=quantity*350\n",
    "        else:\n",
    "            self.branch_sell=quantity*400\n",
    "        SultansDine.branch_information.append(self)\n",
    "    \n",
    "    def branchInformation(self):\n",
    "        print('Branch Name:',self.branch_name)\n",
    "        print('Branch Sell:',self.branch_sell)\n",
    "    \n",
    "    def details():\n",
    "        total_sell=0\n",
    "        total_branch=0\n",
    "        for info in SultansDine.branch_information:\n",
    "            total_sell=total_sell+info.branch_sell\n",
    "            total_branch=total_branch+1\n",
    "        print('Total Number of branch(s):',total_branch)\n",
    "        print('Total Sell:',total_sell,'Taka')\n",
    "        for info in SultansDine.branch_information:\n",
    "            print('Branch Name:',info.branch_name,', Branch Sell:',info.branch_sell,'Taka')\n",
    "            print(f'Branch consists of total sell\\'s: {round(((info.branch_sell/total_sell)*100),2)}%')"
   ]
  },
  {
   "cell_type": "code",
   "execution_count": 50,
   "metadata": {},
   "outputs": [
    {
     "name": "stdout",
     "output_type": "stream",
     "text": [
      "Total Number of branch(s): 0\n",
      "Total Sell: 0 Taka\n",
      "########################\n",
      "Branch Name: Dhanmondi\n",
      "Branch Sell: 10000\n",
      "-----------------------------------------\n",
      "Total Number of branch(s): 1\n",
      "Total Sell: 10000 Taka\n",
      "Branch Name: Dhanmondi , Branch Sell: 10000 Taka\n",
      "Branch consists of total sell's: 100.0%\n",
      "========================\n",
      "Branch Name: Baily Road\n",
      "Branch Sell: 5250\n",
      "-----------------------------------------\n",
      "Total Number of branch(s): 2\n",
      "Total Sell: 15250 Taka\n",
      "Branch Name: Dhanmondi , Branch Sell: 10000 Taka\n",
      "Branch consists of total sell's: 65.57%\n",
      "Branch Name: Baily Road , Branch Sell: 5250 Taka\n",
      "Branch consists of total sell's: 34.43%\n",
      "========================\n",
      "Branch Name: Gulshan\n",
      "Branch Sell: 2700\n",
      "-----------------------------------------\n",
      "Total Number of branch(s): 3\n",
      "Total Sell: 17950 Taka\n",
      "Branch Name: Dhanmondi , Branch Sell: 10000 Taka\n",
      "Branch consists of total sell's: 55.71%\n",
      "Branch Name: Baily Road , Branch Sell: 5250 Taka\n",
      "Branch consists of total sell's: 29.25%\n",
      "Branch Name: Gulshan , Branch Sell: 2700 Taka\n",
      "Branch consists of total sell's: 15.04%\n"
     ]
    }
   ],
   "source": [
    "SultansDine.details()\n",
    "print('########################')\n",
    "dhanmodi = SultansDine('Dhanmondi')\n",
    "dhanmodi.sellQuantity(25)\n",
    "dhanmodi.branchInformation()\n",
    "print('-----------------------------------------')\n",
    "SultansDine.details()\n",
    "print('========================')\n",
    "baily_road = SultansDine('Baily Road')\n",
    "baily_road.sellQuantity(15)\n",
    "baily_road.branchInformation()\n",
    "print('-----------------------------------------')\n",
    "SultansDine.details()\n",
    "print('========================')\n",
    "gulshan = SultansDine('Gulshan')\n",
    "gulshan.sellQuantity(9)\n",
    "gulshan.branchInformation()\n",
    "print('-----------------------------------------')\n",
    "SultansDine.details()"
   ]
  }
 ],
 "metadata": {
  "kernelspec": {
   "display_name": "Python 3",
   "language": "python",
   "name": "python3"
  },
  "language_info": {
   "codemirror_mode": {
    "name": "ipython",
    "version": 3
   },
   "file_extension": ".py",
   "mimetype": "text/x-python",
   "name": "python",
   "nbconvert_exporter": "python",
   "pygments_lexer": "ipython3",
   "version": "3.8.5"
  }
 },
 "nbformat": 4,
 "nbformat_minor": 4
}
