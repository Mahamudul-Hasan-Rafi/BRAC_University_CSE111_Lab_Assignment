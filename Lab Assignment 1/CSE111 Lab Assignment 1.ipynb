{
 "cells": [
  {
   "cell_type": "markdown",
   "metadata": {},
   "source": [
    "# String"
   ]
  },
  {
   "cell_type": "markdown",
   "metadata": {},
   "source": [
    "## Q.1"
   ]
  },
  {
   "cell_type": "code",
   "execution_count": 2,
   "metadata": {},
   "outputs": [
    {
     "name": "stdout",
     "output_type": "stream",
     "text": [
      "ApplE\n",
      "apple\n"
     ]
    }
   ],
   "source": [
    "st=input()\n",
    "upper_case=0\n",
    "lower_case=0\n",
    "\n",
    "for i in st:\n",
    "    if i>='a' and i<='z':\n",
    "        lower_case+=1\n",
    "    else:\n",
    "        upper_case+=1\n",
    "        \n",
    "if lower_case>=upper_case:\n",
    "    print(st.lower())\n",
    "else:\n",
    "    print(st.upper())"
   ]
  },
  {
   "cell_type": "markdown",
   "metadata": {},
   "source": [
    "## Q.2"
   ]
  },
  {
   "cell_type": "code",
   "execution_count": 5,
   "metadata": {},
   "outputs": [
    {
     "name": "stdout",
     "output_type": "stream",
     "text": [
      "Hello\n",
      "WORD\n"
     ]
    }
   ],
   "source": [
    "st=input()\n",
    "number=False\n",
    "letter=False\n",
    "\n",
    "for i in st:\n",
    "    if i>='0' and i<='9':\n",
    "        number=True\n",
    "    else:\n",
    "        letter=True\n",
    "\n",
    "if number and letter:\n",
    "    print('MIXED')\n",
    "elif number:\n",
    "    print('NUMBER')\n",
    "else:\n",
    "    print('WORD')"
   ]
  },
  {
   "cell_type": "markdown",
   "metadata": {},
   "source": [
    "## Q.3"
   ]
  },
  {
   "cell_type": "code",
   "execution_count": 12,
   "metadata": {},
   "outputs": [
    {
     "name": "stdout",
     "output_type": "stream",
     "text": [
      "baNgladEsh\n",
      "glad\n"
     ]
    }
   ],
   "source": [
    "st=input()\n",
    "index_low=0\n",
    "index_high=0\n",
    "flag=0\n",
    "\n",
    "for i in range(len(st)):\n",
    "    if (st[i]>='A' and st[i]<='Z') and (flag==0):\n",
    "        index_low=i\n",
    "        flag=1\n",
    "    elif (st[i]>='A' and st[i]<='Z'):\n",
    "        index_high=i\n",
    "        \n",
    "if (index_low+1)==index_high:\n",
    "    print('BLANK')\n",
    "else:\n",
    "    print(st[index_low+1:index_high])"
   ]
  },
  {
   "cell_type": "markdown",
   "metadata": {},
   "source": [
    "## Q.4"
   ]
  },
  {
   "cell_type": "code",
   "execution_count": 6,
   "metadata": {},
   "outputs": [
    {
     "name": "stdout",
     "output_type": "stream",
     "text": [
      "The book is not too good!\n",
      "The book is not excellent!\n"
     ]
    }
   ],
   "source": [
    "st=input()\n",
    "\n",
    "splitted_st=st.split()\n",
    "\n",
    "too_found=False\n",
    "replaceable=False\n",
    "index_too=0\n",
    "\n",
    "output=st\n",
    "exclamatory=False\n",
    "\n",
    "for i in splitted_st:\n",
    "    if i=='too':\n",
    "        too_found=True\n",
    "    elif (i=='good!' or i=='good') and too_found==True:\n",
    "        replaceable=True\n",
    "        if i=='good!':\n",
    "            exclamatory=True\n",
    "\n",
    "if replaceable:\n",
    "    splitted_st.remove('too')\n",
    "    \n",
    "    if exclamatory:\n",
    "        splitted_st.remove('good!')\n",
    "        splitted_st.append('excellent!')\n",
    "    else:\n",
    "        splitted_st.remove('good')\n",
    "        splitted_st.append('excellent')\n",
    "    \n",
    "    output=' '.join(splitted_st)\n",
    "\n",
    "print(output)    "
   ]
  },
  {
   "cell_type": "markdown",
   "metadata": {},
   "source": [
    "## Q.5"
   ]
  },
  {
   "cell_type": "code",
   "execution_count": 5,
   "metadata": {},
   "outputs": [
    {
     "name": "stdout",
     "output_type": "stream",
     "text": [
      "harry, hermoine\n",
      "hrrhr\n"
     ]
    }
   ],
   "source": [
    "st=input()\n",
    "lst=list(st.split(','))\n",
    "\n",
    "a=lst[0].strip()\n",
    "b=lst[1].strip()\n",
    "\n",
    "result_st=[]\n",
    "for i in a:\n",
    "    if i in b:\n",
    "        result_st.append(i)\n",
    "for i in b:\n",
    "    if i in a:\n",
    "        result_st.append(i)\n",
    "if(len(result_st)==0):\n",
    "    print('Nothing in common.')\n",
    "else:\n",
    "    print(''.join(result_st))"
   ]
  },
  {
   "cell_type": "markdown",
   "metadata": {},
   "source": [
    "## Q.6"
   ]
  },
  {
   "cell_type": "code",
   "execution_count": 23,
   "metadata": {},
   "outputs": [
    {
     "name": "stdout",
     "output_type": "stream",
     "text": [
      "OhMyBR@CU20\n",
      "OK\n"
     ]
    }
   ],
   "source": [
    "st=input()\n",
    "\n",
    "lowercase_missing=True\n",
    "uppercase_missing=True\n",
    "digit_missing=True\n",
    "special_missing=True\n",
    "\n",
    "special_chars=['_','$','#','@']\n",
    "\n",
    "for i in st:\n",
    "    if i>='a' and i<='z':\n",
    "        lowercase_missing=False\n",
    "    elif i>='A' and i<='Z':\n",
    "        uppercase_missing=False\n",
    "    elif i>='0' and i<='9':\n",
    "        digit_missing=False\n",
    "    elif i in special_chars:\n",
    "        special_missing=False\n",
    "\n",
    "if not lowercase_missing and not uppercase_missing and not digit_missing and not special_missing:\n",
    "    print('OK')\n",
    "else:\n",
    "    if lowercase_missing:\n",
    "        print('Lowercase character missing, ',end=' ')\n",
    "    if uppercase_missing:\n",
    "        print('Uppercase character missing, ',end=' ')\n",
    "    if digit_missing:\n",
    "        print('Digit missing, ',end=' ')\n",
    "    if special_missing:\n",
    "        print('Special character missing, ', end=' ')\n",
    "    print()"
   ]
  },
  {
   "cell_type": "markdown",
   "metadata": {},
   "source": [
    "# List"
   ]
  },
  {
   "cell_type": "markdown",
   "metadata": {},
   "source": [
    "## Q.1"
   ]
  },
  {
   "cell_type": "code",
   "execution_count": 28,
   "metadata": {},
   "outputs": [
    {
     "name": "stdout",
     "output_type": "stream",
     "text": [
      "10\n",
      "20\n",
      "20\n",
      "30\n",
      "10\n",
      "50\n",
      "90\n",
      "STOP\n",
      "10  -  2  times\n",
      "20  -  2  times\n",
      "30  -  1  times\n",
      "50  -  1  times\n",
      "90  -  1  times\n"
     ]
    }
   ],
   "source": [
    "lst1=[]\n",
    "lst2=[]\n",
    "set_= set()\n",
    "\n",
    "while(1):\n",
    "    i=input()\n",
    "    if i=='STOP':\n",
    "        break\n",
    "    i=int(i)\n",
    "    \n",
    "    lst1.append(i)\n",
    "    set_.add(i)\n",
    "\n",
    "lst2=list(set_)\n",
    "lst2.sort()\n",
    "\n",
    "for i in lst2:\n",
    "    print(i,' - ', lst1.count(i),' times')"
   ]
  },
  {
   "cell_type": "markdown",
   "metadata": {},
   "source": [
    "## Q.2"
   ]
  },
  {
   "cell_type": "code",
   "execution_count": 34,
   "metadata": {},
   "outputs": [
    {
     "name": "stdout",
     "output_type": "stream",
     "text": [
      "4\n",
      "1 2 3\n",
      "4 5 6\n",
      "10 11 12\n",
      "7 8 9\n",
      "33\n",
      "[10, 11, 12]\n"
     ]
    }
   ],
   "source": [
    "n=int(input())\n",
    "lst_container=[]\n",
    "max_=0\n",
    "sum_=0\n",
    "max_index=0\n",
    "\n",
    "for i in range(n):\n",
    "    lst=list(map(int, input().split()))\n",
    "    sum_=sum(lst)\n",
    "    \n",
    "    if(sum_>max_):\n",
    "        max_=sum_\n",
    "        max_index=i\n",
    "    \n",
    "    lst_container.append(lst)\n",
    "\n",
    "print(max_)\n",
    "print(lst_container[max_index])"
   ]
  },
  {
   "cell_type": "markdown",
   "metadata": {},
   "source": [
    "## Q.3"
   ]
  },
  {
   "cell_type": "code",
   "execution_count": 37,
   "metadata": {},
   "outputs": [
    {
     "name": "stdout",
     "output_type": "stream",
     "text": [
      "2 3 6\n",
      "3 4 5\n",
      "[6, 8, 10, 9, 12, 15, 18, 24, 30]\n"
     ]
    }
   ],
   "source": [
    "lst=[]\n",
    "\n",
    "lst1=list(map(int, input().split()))\n",
    "lst2=list(map(int, input().split()))\n",
    "\n",
    "for i in lst1:\n",
    "    for j in lst2:\n",
    "        lst.append(i*j)\n",
    "print(lst)"
   ]
  },
  {
   "cell_type": "markdown",
   "metadata": {},
   "source": [
    "## Q.4"
   ]
  },
  {
   "cell_type": "code",
   "execution_count": 10,
   "metadata": {},
   "outputs": [
    {
     "name": "stdout",
     "output_type": "stream",
     "text": [
      "1 4 2 3\n",
      "UB Jumper\n",
      "2 1 4 6 10\n",
      "UB Jumper\n",
      "1 4 2 -1 6\n",
      "Not UB Jumper\n",
      "STOP\n"
     ]
    }
   ],
   "source": [
    "while(1):\n",
    "    inp=input()\n",
    "    \n",
    "    if inp=='STOP':\n",
    "        break\n",
    "        \n",
    "    inp=list(map(int, inp.split()))\n",
    "    \n",
    "    lst=[]\n",
    "    for i in range(1,len(inp)):\n",
    "        lst.append(abs(inp[i]-inp[i-1]))\n",
    "    \n",
    "    sum_=0\n",
    "    for i in lst:\n",
    "        sum_+=i\n",
    "    \n",
    "    if sum_==((len(lst)*(len(lst)+1))//2):\n",
    "        print(\"UB Jumper\")\n",
    "    else:\n",
    "        print(\"Not UB Jumper\")"
   ]
  },
  {
   "cell_type": "markdown",
   "metadata": {},
   "source": [
    "## Q.5"
   ]
  },
  {
   "cell_type": "code",
   "execution_count": 11,
   "metadata": {},
   "outputs": [
    {
     "name": "stdout",
     "output_type": "stream",
     "text": [
      "Bracu1234\n",
      "acruB1324\n"
     ]
    }
   ],
   "source": [
    "st=input()\n",
    "lowercase=[]\n",
    "uppercase=[]\n",
    "odd_digit=[]\n",
    "even_digit=[]\n",
    "\n",
    "for i in st:\n",
    "    if i>='a' and i<='z':\n",
    "        lowercase.append(i)\n",
    "    elif i>='A' and i<='Z':\n",
    "        uppercase.append(i)\n",
    "    elif int(i)%2==0:\n",
    "        even_digit.append(i)\n",
    "    else:\n",
    "        odd_digit.append(i)\n",
    "\n",
    "lowercase.sort()\n",
    "uppercase.sort()\n",
    "odd_digit.sort()\n",
    "even_digit.sort()\n",
    "\n",
    "lower_st=''.join(lowercase)\n",
    "upper_st=''.join(uppercase)\n",
    "odd_st=''.join(odd_digit)\n",
    "even_st=''.join(even_digit)\n",
    "\n",
    "res=lower_st+upper_st+odd_st+even_st\n",
    "\n",
    "print(res)"
   ]
  },
  {
   "cell_type": "markdown",
   "metadata": {},
   "source": [
    "## Q.6"
   ]
  },
  {
   "cell_type": "code",
   "execution_count": 17,
   "metadata": {},
   "outputs": [
    {
     "name": "stdout",
     "output_type": "stream",
     "text": [
      "5 2\n",
      "0 4 5 1 0\n",
      "1\n"
     ]
    }
   ],
   "source": [
    "n,k=tuple(map(int, input().split()))\n",
    "\n",
    "participate=list(map(int, input().split()))\n",
    "\n",
    "for i in range(k):\n",
    "    participate=list(map(lambda x:x+1, participate))\n",
    "\n",
    "sum_=0\n",
    "for i in participate:\n",
    "    if i<=5:\n",
    "        sum_+=1\n",
    "print(sum_//3)"
   ]
  },
  {
   "cell_type": "markdown",
   "metadata": {},
   "source": [
    "# Dictionary and Tuple"
   ]
  },
  {
   "cell_type": "markdown",
   "metadata": {},
   "source": [
    "## Q.1"
   ]
  },
  {
   "cell_type": "code",
   "execution_count": 23,
   "metadata": {},
   "outputs": [
    {
     "name": "stdout",
     "output_type": "stream",
     "text": [
      "a: 100\n",
      "b: 100\n",
      "c: 200\n",
      "d: 300\n",
      "\n",
      "a: 300\n",
      "b: 200\n",
      "d: 400\n",
      "e: 200\n",
      "{'a': 400, 'b': 300, 'c': 200, 'd': 700, 'e': 200}\n",
      "(200, 300, 400, 700)\n"
     ]
    }
   ],
   "source": [
    "d1=dict(input().split(': ') for _ in range(4))\n",
    "print()\n",
    "d2=dict(input().split(': ') for _ in range(4))\n",
    "\n",
    "for i in d1.keys():\n",
    "    d1[i]=int(d1[i])\n",
    "for i in d2.keys():\n",
    "    d2[i]=int(d2[i])\n",
    "\n",
    "d=dict()\n",
    "for i in d1.keys():\n",
    "    if i in d2.keys():\n",
    "        d[i]=d1[i]+d2[i]\n",
    "    else:\n",
    "        d[i]=d1[i]\n",
    "for i in d2.keys():\n",
    "    if i not in d.keys():\n",
    "        d[i]=d2[i]\n",
    "print(d)\n",
    "tp=set(d.values())\n",
    "tp=list(tp)\n",
    "tp.sort()\n",
    "print(tuple(tp))"
   ]
  },
  {
   "cell_type": "markdown",
   "metadata": {},
   "source": [
    "## Q.2"
   ]
  },
  {
   "cell_type": "code",
   "execution_count": 31,
   "metadata": {},
   "outputs": [
    {
     "name": "stdout",
     "output_type": "stream",
     "text": [
      "10\n",
      "20\n",
      "20\n",
      "30\n",
      "10\n",
      "50\n",
      "90\n",
      "STOP\n",
      "10  -  2 times\n",
      "20  -  2 times\n",
      "30  -  1 times\n",
      "50  -  1 times\n",
      "90  -  1 times\n"
     ]
    }
   ],
   "source": [
    "lst=[]\n",
    "while(1):\n",
    "    inp=input()\n",
    "    \n",
    "    if inp=='STOP':\n",
    "        break\n",
    "    inp=int(inp)\n",
    "    \n",
    "    lst.append(inp)\n",
    "\n",
    "d={x: lst.count(x) for x in lst}\n",
    "\n",
    "for k in d.items():\n",
    "    print(k[0],' - ',k[1],'times')"
   ]
  },
  {
   "cell_type": "markdown",
   "metadata": {},
   "source": [
    "## Q.3"
   ]
  },
  {
   "cell_type": "code",
   "execution_count": 35,
   "metadata": {},
   "outputs": [
    {
     "name": "stdout",
     "output_type": "stream",
     "text": [
      "No of keys: 3\n",
      "\n",
      "key1: value1\n",
      "key2: value2\n",
      "key3: value1\n",
      "\n",
      "{'value1': ['key1', 'key3'], 'value2': ['key2']}\n"
     ]
    }
   ],
   "source": [
    "inp=int(input('No of keys: '))\n",
    "print()\n",
    "d=dict(input().split(': ') for _ in range(inp))\n",
    "\n",
    "d_inverted={}\n",
    "for k in d.items():\n",
    "    if k[1] not in d_inverted.keys():\n",
    "        d_inverted[k[1]]=[]\n",
    "        d_inverted[k[1]].append(k[0])\n",
    "    else:\n",
    "        d_inverted[k[1]].append(k[0])\n",
    "print()\n",
    "print(d_inverted)"
   ]
  },
  {
   "cell_type": "markdown",
   "metadata": {},
   "source": [
    "## Q.4"
   ]
  },
  {
   "cell_type": "code",
   "execution_count": 32,
   "metadata": {},
   "outputs": [
    {
     "name": "stdout",
     "output_type": "stream",
     "text": [
      "evil\n",
      "live\n",
      "Those strings are anagrams.\n"
     ]
    }
   ],
   "source": [
    "st1=input()\n",
    "st2=input()\n",
    "\n",
    "anagram=True\n",
    "if len(st1)==len(st2):\n",
    "    for x in st1:\n",
    "        if x not in st2:\n",
    "            anagram=False\n",
    "            break\n",
    "else:\n",
    "    anagram=False\n",
    "if anagram:\n",
    "    print('Those strings are anagrams.')\n",
    "else:\n",
    "    print('Those strings are not anagrams.')"
   ]
  },
  {
   "cell_type": "markdown",
   "metadata": {},
   "source": [
    "## Q.5"
   ]
  },
  {
   "cell_type": "code",
   "execution_count": 39,
   "metadata": {},
   "outputs": [
    {
     "name": "stdout",
     "output_type": "stream",
     "text": [
      "Hello, World!\n"
     ]
    },
    {
     "data": {
      "text/plain": [
       "'4355610967531'"
      ]
     },
     "execution_count": 39,
     "metadata": {},
     "output_type": "execute_result"
    }
   ],
   "source": [
    "d={'A':2,'B':2,'C':2,'D':3,'E':3,'F':3,'G':4,'H':4,'I':4,'J':5,'K':5,'L':5,'M':6,'N':6,'O':6,'P':7,'Q':7,'R':7,'S':7,'T':8,'U':8,'V':8,'W':9,'X':9,'Y':9,'Z':9,' ':0,'.':1,',':1,'?':1,'!':1,':':1}\n",
    "\n",
    "st=input()\n",
    "s=''\n",
    "for i in st.upper():\n",
    "    s+=str(d[i])\n",
    "s"
   ]
  }
 ],
 "metadata": {
  "kernelspec": {
   "display_name": "Python 3",
   "language": "python",
   "name": "python3"
  },
  "language_info": {
   "codemirror_mode": {
    "name": "ipython",
    "version": 3
   },
   "file_extension": ".py",
   "mimetype": "text/x-python",
   "name": "python",
   "nbconvert_exporter": "python",
   "pygments_lexer": "ipython3",
   "version": "3.8.5"
  }
 },
 "nbformat": 4,
 "nbformat_minor": 4
}
